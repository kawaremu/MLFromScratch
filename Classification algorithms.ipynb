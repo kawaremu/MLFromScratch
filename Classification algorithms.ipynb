{
 "cells": [
  {
   "cell_type": "markdown",
   "metadata": {},
   "source": [
    "### 🌸🌺 Iris dataset : Trying our KNN class\n",
    "\n",
    "This is perhaps the best known database to be found in the pattern recognition literature. Fisher's paper is a classic in the field and is referenced frequently to this day. (See Duda & Hart, for example.) The data set contains 3 classes of 50 instances each, where each class refers to a type of iris plant. One class is linearly separable from the other 2; the latter are NOT linearly separable from each other.\n",
    "\n",
    "![Iris](images/iris-machinelearning.png)\n",
    "\n",
    "\n"
   ]
  },
  {
   "cell_type": "code",
   "execution_count": null,
   "metadata": {},
   "outputs": [],
   "source": [
    "from sklearn import datasets\n",
    "import matplotlib.pyplot as plt\n",
    "from matplotlib.colors import ListedColormap\n",
    "import numpy as np\n",
    "\n",
    "cmap = ListedColormap(['#FF0000','#00FF00','#0000FF'])\n",
    "\n",
    "iris = datasets.load_iris()\n",
    "\n",
    "X, y = iris.data, iris.target\n",
    "\n",
    "X_train,X_test,y_train,y_test = train_test_split(X,y, test_size=0.2,random_state=1234)\n",
    "\n",
    "plt.figure()\n",
    "plt.scatter(X[:,0],X[:,1],c=y,cmap=cmap,edgecolors='k',s=20)\n",
    "plt.title('First and second feature of the flowers')\n",
    "plt.show()\n",
    "\n",
    "knn_classifier = KNN(k=5)\n",
    "knn_classifier.fit(X_train,y_train)\n",
    "predictions = knn_classifier.predict(X_test)\n",
    "\n",
    "accuracy = np.sum(predictions == y_test)/ len(y_test)\n",
    "accuracy\n"
   ]
  }
 ],
 "metadata": {
  "interpreter": {
   "hash": "c9d3fa381d95475d40c28039b791b5da7416cbdb01ba79e7c769ff56af08c488"
  },
  "kernelspec": {
   "display_name": "Python 3.9.6 64-bit",
   "language": "python",
   "name": "python3"
  },
  "language_info": {
   "name": "python",
   "version": "3.9.6"
  },
  "orig_nbformat": 4
 },
 "nbformat": 4,
 "nbformat_minor": 2
}
