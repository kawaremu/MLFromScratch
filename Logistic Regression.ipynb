{
 "cells": [
  {
   "cell_type": "markdown",
   "metadata": {},
   "source": [
    "<img src=\"images\\nbviewer_badge.png\" width=\"200\" href=\"https://nbviewer.org/github/kawaremu/MLFromScratch/blob/main/Logistic%20Regression.ipynb\">\n",
    "\n",
    "# 🎲 Logistic Regression\n",
    "\n",
    "**Logistic regression** is a process of modeling the probability of a discrete outcome given an input variable.\n",
    "\n",
    "Logistic Regression was used in the biological sciences in early twentieth century. It was then used in many social science applications. Logistic Regression is used when the dependent variable(target) is categorical. \n",
    "\n",
    "For example : \n",
    "- To predict whether an email is spam (1) or (0)\n",
    "- Whether the tumor is malignant (1) or not (0)\n",
    "\n",
    "\n",
    "\n",
    "<center><img src=\"https://blog.developerspoint.org/assets/img/logistic_banner.jpg\" width=900></center>\n"
   ]
  },
  {
   "cell_type": "code",
   "execution_count": 2,
   "metadata": {},
   "outputs": [],
   "source": [
    "import numpy as np\n",
    "import matplotlib.pyplot as plt\n",
    "import pandas as pd\n",
    "import seaborn as sns"
   ]
  },
  {
   "cell_type": "code",
   "execution_count": 3,
   "metadata": {},
   "outputs": [],
   "source": [
    "plt.style.use('seaborn-whitegrid')"
   ]
  },
  {
   "cell_type": "markdown",
   "metadata": {},
   "source": [
    "Let's first start by loading the data in a dataframe."
   ]
  },
  {
   "cell_type": "code",
   "execution_count": 4,
   "metadata": {},
   "outputs": [],
   "source": [
    "df_students = pd.read_csv('data/students.csv')"
   ]
  },
  {
   "cell_type": "markdown",
   "metadata": {},
   "source": [
    "# 🦮 Data Exploration & Linear Regression Approach"
   ]
  },
  {
   "cell_type": "markdown",
   "metadata": {},
   "source": [
    "In this dataset, the features represent the marks obtained by students on two subjects, and the target is the student being admitted to a major."
   ]
  },
  {
   "cell_type": "code",
   "execution_count": 5,
   "metadata": {},
   "outputs": [
    {
     "data": {
      "text/html": [
       "<div>\n",
       "<style scoped>\n",
       "    .dataframe tbody tr th:only-of-type {\n",
       "        vertical-align: middle;\n",
       "    }\n",
       "\n",
       "    .dataframe tbody tr th {\n",
       "        vertical-align: top;\n",
       "    }\n",
       "\n",
       "    .dataframe thead th {\n",
       "        text-align: right;\n",
       "    }\n",
       "</style>\n",
       "<table border=\"1\" class=\"dataframe\">\n",
       "  <thead>\n",
       "    <tr style=\"text-align: right;\">\n",
       "      <th></th>\n",
       "      <th>mark1</th>\n",
       "      <th>mark2</th>\n",
       "      <th>admitted</th>\n",
       "    </tr>\n",
       "  </thead>\n",
       "  <tbody>\n",
       "    <tr>\n",
       "      <th>0</th>\n",
       "      <td>6.9247</td>\n",
       "      <td>15.605</td>\n",
       "      <td>0</td>\n",
       "    </tr>\n",
       "    <tr>\n",
       "      <th>1</th>\n",
       "      <td>6.0573</td>\n",
       "      <td>8.779</td>\n",
       "      <td>0</td>\n",
       "    </tr>\n",
       "    <tr>\n",
       "      <th>2</th>\n",
       "      <td>7.1695</td>\n",
       "      <td>14.580</td>\n",
       "      <td>0</td>\n",
       "    </tr>\n",
       "    <tr>\n",
       "      <th>3</th>\n",
       "      <td>12.0370</td>\n",
       "      <td>17.262</td>\n",
       "      <td>1</td>\n",
       "    </tr>\n",
       "    <tr>\n",
       "      <th>4</th>\n",
       "      <td>15.8070</td>\n",
       "      <td>15.069</td>\n",
       "      <td>1</td>\n",
       "    </tr>\n",
       "  </tbody>\n",
       "</table>\n",
       "</div>"
      ],
      "text/plain": [
       "     mark1   mark2  admitted\n",
       "0   6.9247  15.605         0\n",
       "1   6.0573   8.779         0\n",
       "2   7.1695  14.580         0\n",
       "3  12.0370  17.262         1\n",
       "4  15.8070  15.069         1"
      ]
     },
     "execution_count": 5,
     "metadata": {},
     "output_type": "execute_result"
    }
   ],
   "source": [
    "df_students.head()"
   ]
  },
  {
   "cell_type": "markdown",
   "metadata": {},
   "source": [
    "Since we already worked on a linear regression problem already in our last notebook, we may be tempted by plotting a linear regression line.\n",
    "\n",
    "For the sake of an example, let's make it easier : since we are dealing with students' marks, we can just go ahead and sum up mark1 and mark2 to get an average mark and decide whether the student is admitted or not."
   ]
  },
  {
   "cell_type": "code",
   "execution_count": 6,
   "metadata": {},
   "outputs": [],
   "source": [
    "df_students['average_mark'] = df_students.apply(lambda row: (row.mark1+row.mark2)/2, axis = 1)"
   ]
  },
  {
   "cell_type": "code",
   "execution_count": 7,
   "metadata": {},
   "outputs": [
    {
     "data": {
      "text/html": [
       "<div>\n",
       "<style scoped>\n",
       "    .dataframe tbody tr th:only-of-type {\n",
       "        vertical-align: middle;\n",
       "    }\n",
       "\n",
       "    .dataframe tbody tr th {\n",
       "        vertical-align: top;\n",
       "    }\n",
       "\n",
       "    .dataframe thead th {\n",
       "        text-align: right;\n",
       "    }\n",
       "</style>\n",
       "<table border=\"1\" class=\"dataframe\">\n",
       "  <thead>\n",
       "    <tr style=\"text-align: right;\">\n",
       "      <th></th>\n",
       "      <th>mark1</th>\n",
       "      <th>mark2</th>\n",
       "      <th>admitted</th>\n",
       "      <th>average_mark</th>\n",
       "    </tr>\n",
       "  </thead>\n",
       "  <tbody>\n",
       "    <tr>\n",
       "      <th>0</th>\n",
       "      <td>6.9247</td>\n",
       "      <td>15.605</td>\n",
       "      <td>0</td>\n",
       "      <td>11.26485</td>\n",
       "    </tr>\n",
       "    <tr>\n",
       "      <th>1</th>\n",
       "      <td>6.0573</td>\n",
       "      <td>8.779</td>\n",
       "      <td>0</td>\n",
       "      <td>7.41815</td>\n",
       "    </tr>\n",
       "    <tr>\n",
       "      <th>2</th>\n",
       "      <td>7.1695</td>\n",
       "      <td>14.580</td>\n",
       "      <td>0</td>\n",
       "      <td>10.87475</td>\n",
       "    </tr>\n",
       "    <tr>\n",
       "      <th>3</th>\n",
       "      <td>12.0370</td>\n",
       "      <td>17.262</td>\n",
       "      <td>1</td>\n",
       "      <td>14.64950</td>\n",
       "    </tr>\n",
       "    <tr>\n",
       "      <th>4</th>\n",
       "      <td>15.8070</td>\n",
       "      <td>15.069</td>\n",
       "      <td>1</td>\n",
       "      <td>15.43800</td>\n",
       "    </tr>\n",
       "  </tbody>\n",
       "</table>\n",
       "</div>"
      ],
      "text/plain": [
       "     mark1   mark2  admitted  average_mark\n",
       "0   6.9247  15.605         0      11.26485\n",
       "1   6.0573   8.779         0       7.41815\n",
       "2   7.1695  14.580         0      10.87475\n",
       "3  12.0370  17.262         1      14.64950\n",
       "4  15.8070  15.069         1      15.43800"
      ]
     },
     "execution_count": 7,
     "metadata": {},
     "output_type": "execute_result"
    }
   ],
   "source": [
    "df_students.head()"
   ]
  },
  {
   "cell_type": "markdown",
   "metadata": {},
   "source": [
    "For comprehension and intuition reasons, let's just reindex the columns to adjust their positioning."
   ]
  },
  {
   "cell_type": "code",
   "execution_count": 8,
   "metadata": {},
   "outputs": [
    {
     "data": {
      "text/plain": [
       "Index(['mark1', 'mark2', 'admitted', 'average_mark'], dtype='object')"
      ]
     },
     "execution_count": 8,
     "metadata": {},
     "output_type": "execute_result"
    }
   ],
   "source": [
    "df_students.columns"
   ]
  },
  {
   "cell_type": "code",
   "execution_count": 9,
   "metadata": {},
   "outputs": [
    {
     "data": {
      "text/html": [
       "<div>\n",
       "<style scoped>\n",
       "    .dataframe tbody tr th:only-of-type {\n",
       "        vertical-align: middle;\n",
       "    }\n",
       "\n",
       "    .dataframe tbody tr th {\n",
       "        vertical-align: top;\n",
       "    }\n",
       "\n",
       "    .dataframe thead th {\n",
       "        text-align: right;\n",
       "    }\n",
       "</style>\n",
       "<table border=\"1\" class=\"dataframe\">\n",
       "  <thead>\n",
       "    <tr style=\"text-align: right;\">\n",
       "      <th></th>\n",
       "      <th>mark1</th>\n",
       "      <th>mark2</th>\n",
       "      <th>average_mark</th>\n",
       "      <th>admitted</th>\n",
       "    </tr>\n",
       "  </thead>\n",
       "  <tbody>\n",
       "    <tr>\n",
       "      <th>0</th>\n",
       "      <td>6.9247</td>\n",
       "      <td>15.605</td>\n",
       "      <td>11.26485</td>\n",
       "      <td>0</td>\n",
       "    </tr>\n",
       "    <tr>\n",
       "      <th>1</th>\n",
       "      <td>6.0573</td>\n",
       "      <td>8.779</td>\n",
       "      <td>7.41815</td>\n",
       "      <td>0</td>\n",
       "    </tr>\n",
       "    <tr>\n",
       "      <th>2</th>\n",
       "      <td>7.1695</td>\n",
       "      <td>14.580</td>\n",
       "      <td>10.87475</td>\n",
       "      <td>0</td>\n",
       "    </tr>\n",
       "    <tr>\n",
       "      <th>3</th>\n",
       "      <td>12.0370</td>\n",
       "      <td>17.262</td>\n",
       "      <td>14.64950</td>\n",
       "      <td>1</td>\n",
       "    </tr>\n",
       "    <tr>\n",
       "      <th>4</th>\n",
       "      <td>15.8070</td>\n",
       "      <td>15.069</td>\n",
       "      <td>15.43800</td>\n",
       "      <td>1</td>\n",
       "    </tr>\n",
       "  </tbody>\n",
       "</table>\n",
       "</div>"
      ],
      "text/plain": [
       "     mark1   mark2  average_mark  admitted\n",
       "0   6.9247  15.605      11.26485         0\n",
       "1   6.0573   8.779       7.41815         0\n",
       "2   7.1695  14.580      10.87475         0\n",
       "3  12.0370  17.262      14.64950         1\n",
       "4  15.8070  15.069      15.43800         1"
      ]
     },
     "execution_count": 9,
     "metadata": {},
     "output_type": "execute_result"
    }
   ],
   "source": [
    "new_cols = ['mark1', 'mark2','average_mark', 'admitted']\n",
    "\n",
    "#or\n",
    "df_students = df_students.reindex(columns=new_cols)\n",
    "df_students.head()"
   ]
  },
  {
   "cell_type": "code",
   "execution_count": 10,
   "metadata": {},
   "outputs": [],
   "source": [
    "features = ['average_mark']\n",
    "target = 'admitted'"
   ]
  },
  {
   "cell_type": "code",
   "execution_count": 11,
   "metadata": {},
   "outputs": [],
   "source": [
    "X = df_students[features].values\n",
    "y = df_students[target].values.astype(np.int32).reshape(-1,1)"
   ]
  },
  {
   "cell_type": "code",
   "execution_count": 12,
   "metadata": {},
   "outputs": [
    {
     "data": {
      "text/plain": [
       "<matplotlib.legend.Legend at 0x251e2e511c0>"
      ]
     },
     "execution_count": 12,
     "metadata": {},
     "output_type": "execute_result"
    },
    {
     "data": {
      "image/png": "[encoded data removed]",
      "text/plain": [
       "<Figure size 504x360 with 1 Axes>"
      ]
     },
     "metadata": {},
     "output_type": "display_data"
    }
   ],
   "source": [
    "plt.figure(figsize=(7,5))\n",
    "plt.scatter(X,y, label=\"average mark\",alpha=0.3,cmap='viridis')\n",
    "plt.legend()"
   ]
  },
  {
   "cell_type": "markdown",
   "metadata": {},
   "source": [
    "## A Linear Approach"
   ]
  },
  {
   "cell_type": "markdown",
   "metadata": {},
   "source": [
    "Let's use the built-in sklearn linear model to determine the linear regression line."
   ]
  },
  {
   "cell_type": "code",
   "execution_count": 13,
   "metadata": {},
   "outputs": [
    {
     "data": {
      "text/plain": [
       "LinearRegression()"
      ]
     },
     "execution_count": 13,
     "metadata": {},
     "output_type": "execute_result"
    }
   ],
   "source": [
    "from sklearn import linear_model\n",
    "reg = linear_model.LinearRegression()\n",
    "reg.fit(X,y)"
   ]
  },
  {
   "cell_type": "code",
   "execution_count": 14,
   "metadata": {},
   "outputs": [
    {
     "data": {
      "text/plain": [
       "array([[ 0.32301602],\n",
       "       [-0.23139612],\n",
       "       [ 0.2667922 ],\n",
       "       [ 0.81083444],\n",
       "       [ 0.92447833],\n",
       "       [ 0.1608735 ],\n",
       "       [ 0.97110332],\n",
       "       [ 0.45172837],\n",
       "       [ 1.05621013],\n",
       "       [ 0.54381812],\n",
       "       [ 0.63198042],\n",
       "       [ 0.22169496],\n",
       "       [ 0.98796614],\n",
       "       [ 1.1075913 ],\n",
       "       [ 0.36517308]])"
      ]
     },
     "execution_count": 14,
     "metadata": {},
     "output_type": "execute_result"
    }
   ],
   "source": [
    "y_pred = reg.predict(X)\n",
    "y_pred[:15]"
   ]
  },
  {
   "cell_type": "code",
   "execution_count": 15,
   "metadata": {},
   "outputs": [
    {
     "data": {
      "text/plain": [
       "<matplotlib.legend.Legend at 0x251e6ba84c0>"
      ]
     },
     "execution_count": 15,
     "metadata": {},
     "output_type": "execute_result"
    },
    {
     "data": {
      "image/png": "[encoded data removed]",
      "text/plain": [
       "<Figure size 648x432 with 1 Axes>"
      ]
     },
     "metadata": {},
     "output_type": "display_data"
    }
   ],
   "source": [
    "plt.figure(figsize=(9,6))\n",
    "plt.scatter(X,y, label=\"average mark\",alpha=0.3,cmap='viridis')\n",
    "plt.plot(X, y_pred, color='red', linewidth=1,label=\"Regression line\")\n",
    "plt.title('Single Linear Regression')\n",
    "plt.legend()"
   ]
  },
  {
   "cell_type": "markdown",
   "metadata": {},
   "source": [
    "This looks good, but what could tell us that a student is admitted or not ?\n",
    "We may think that, if the value of the prediction function $h_{\\theta}$ has a value higher than 0.5,then, that student is assigned to class 1 (admitted).\n",
    "\n",
    "Let's go ahead and make that intersection point more visible."
   ]
  },
  {
   "cell_type": "code",
   "execution_count": 16,
   "metadata": {},
   "outputs": [
    {
     "name": "stdout",
     "output_type": "stream",
     "text": [
      "50.10% of getting admitted\n"
     ]
    }
   ],
   "source": [
    "random_student = np.array([12.5]).reshape(-1,1)\n",
    "prediction = reg.predict(random_student)\n",
    "print('{:.2f}% of getting admitted'.format(prediction[0][0]*100))"
   ]
  },
  {
   "cell_type": "code",
   "execution_count": 17,
   "metadata": {},
   "outputs": [
    {
     "data": {
      "text/plain": [
       "(array([-1.30054955]), array([[0.14412669]]))"
      ]
     },
     "execution_count": 17,
     "metadata": {},
     "output_type": "execute_result"
    }
   ],
   "source": [
    "reg.intercept_, reg.coef_"
   ]
  },
  {
   "cell_type": "code",
   "execution_count": 18,
   "metadata": {},
   "outputs": [
    {
     "data": {
      "text/plain": [
       "<matplotlib.legend.Legend at 0x251e6d7e790>"
      ]
     },
     "execution_count": 18,
     "metadata": {},
     "output_type": "execute_result"
    },
    {
     "data": {
      "image/png": "[encoded data removed]",
      "text/plain": [
       "<Figure size 576x360 with 1 Axes>"
      ]
     },
     "metadata": {},
     "output_type": "display_data"
    }
   ],
   "source": [
    "plt.figure(figsize=(8,5))\n",
    "plt.scatter(X,y, label=\"average mark\",alpha=0.3,cmap='viridis')\n",
    "plt.plot(X, y_pred, color='red', linewidth=1,label=\"Regression line\")\n",
    "plt.axhline(y=0.5, color='r', linestyle='--',linewidth=0.5)\n",
    "plt.axvline(x=12.5, color='b',linestyle='--',linewidth=0.5,label='prediction boundary')\n",
    "plt.plot(random_student,prediction, marker=\"o\", markersize=10, markeredgecolor=\"blue\", markerfacecolor=\"yellow\",zorder=20,label='Student with 12.5')\n",
    "plt.title('Single Linear Regression')\n",
    "plt.legend()"
   ]
  },
  {
   "cell_type": "markdown",
   "metadata": {},
   "source": [
    "Let's look at this problem, here comes a student with an average mark of 12.5... What would you predict for him ? To be admitted or rejected ?\n",
    "\n",
    "The model is saying that this student has 50.10% of chance of getting admitted.\n",
    "\n",
    "However,iff we look at our dataset, it seems like some students with an average grade of 12.5 are both accepted and rejected.\n",
    "\n",
    "This will lead to high risk problems if we were to predict whether a tumor is malignant or benign. We can easily kill people if we make wrong predictions using Linear Regression on classification problems."
   ]
  },
  {
   "cell_type": "markdown",
   "metadata": {},
   "source": [
    "## 🐍 Sigmoid activation\n",
    "\n",
    "It is true, when we wanted to predict the admission of a student, we were talking using percentage.\n",
    "\n",
    "We say words like \"50%\" of chance, or \"10%\" of risk. These are probabilities, but our output of predictions' vector had negative values, which is not possible for probabilities.\n",
    "\n",
    "\n",
    "In order to map predicted values to probabilities, we use the **sigmoid function**. The function maps any real value into another value between 0 and 1. In machine learning, we use sigmoid to map predictions to probabilities.\n",
    "\n",
    "$$ S(z) = \\frac{1}{1 + e^{-z}}$$\n",
    "\n",
    "Where :\n",
    "\n",
    "- $s(z)$ = output between 0 and 1 (probability estimate)\n",
    "- $z$ = input to the function (your algorithm’s prediction e.g. $y = mx + b$)\n",
    "- $e$ = base of natural log"
   ]
  },
  {
   "cell_type": "code",
   "execution_count": 19,
   "metadata": {},
   "outputs": [],
   "source": [
    "def sigmoid(z):\n",
    "    return 1 / (1 + np.exp(-z))\n",
    "\n",
    "assert sigmoid(0) == 0.5"
   ]
  },
  {
   "cell_type": "code",
   "execution_count": 20,
   "metadata": {},
   "outputs": [],
   "source": [
    "x_values = np.linspace(start = -5, stop = 5, num = 201)\n",
    "logistic_sigmoid_values = sigmoid(x_values)"
   ]
  },
  {
   "cell_type": "code",
   "execution_count": 21,
   "metadata": {},
   "outputs": [
    {
     "data": {
      "text/plain": [
       "<matplotlib.legend.Legend at 0x251e6c02700>"
      ]
     },
     "execution_count": 21,
     "metadata": {},
     "output_type": "execute_result"
    },
    {
     "data": {
      "image/png": "[encoded data removed]",
      "text/plain": [
       "<Figure size 432x288 with 1 Axes>"
      ]
     },
     "metadata": {},
     "output_type": "display_data"
    }
   ],
   "source": [
    "plt.plot(x_values, logistic_sigmoid_values, color='red', linewidth=1,label=\"Sigmoid function\")\n",
    "plt.legend()"
   ]
  },
  {
   "cell_type": "code",
   "execution_count": 22,
   "metadata": {},
   "outputs": [
    {
     "data": {
      "text/plain": [
       "array([[0.5800591 ],\n",
       "       [0.44240772],\n",
       "       [0.56630523],\n",
       "       [0.69228729],\n",
       "       [0.71595372]])"
      ]
     },
     "execution_count": 22,
     "metadata": {},
     "output_type": "execute_result"
    }
   ],
   "source": [
    "y_pred_prob = sigmoid(y_pred)\n",
    "y_pred_prob[:5]"
   ]
  },
  {
   "cell_type": "markdown",
   "metadata": {},
   "source": [
    "As you can see, these predictions look more like probabilities and this is the whole point of the sigmoid function, but for some reasons (that we will explain later on), using the sigmoid function on predicted values using Linear Regression (which uses MSE as a cost function) won't make the plot of that sigmoid function possible.\n",
    "\n",
    "This is, however, possible thanks to the Logistic Regression (that we will build from scratch and compare with the sklearn library version)."
   ]
  },
  {
   "cell_type": "code",
   "execution_count": 23,
   "metadata": {},
   "outputs": [],
   "source": [
    "from sklearn import linear_model\n",
    "from scipy.special import expit"
   ]
  },
  {
   "cell_type": "code",
   "execution_count": 24,
   "metadata": {},
   "outputs": [
    {
     "data": {
      "text/plain": [
       "LogisticRegression(C=100000.0)"
      ]
     },
     "execution_count": 24,
     "metadata": {},
     "output_type": "execute_result"
    }
   ],
   "source": [
    "model = linear_model.LogisticRegression(C=1e5, solver='lbfgs')\n",
    "model.fit(X,y.ravel())"
   ]
  },
  {
   "cell_type": "markdown",
   "metadata": {},
   "source": [
    "In order to fit the sigmoid function to our data, we have to use some *\"dummy\"* $X$ values in order to plot it in respect to $y$.\n",
    "\n",
    "Without getting too mathematical, here is a way to do it :\n",
    "\n",
    "<center><img src=\"images/linear_to_logistic.png\" width=750 ></center>"
   ]
  },
  {
   "cell_type": "code",
   "execution_count": 25,
   "metadata": {},
   "outputs": [],
   "source": [
    "x_test = np.linspace(X.min(),X.max(),len(X))"
   ]
  },
  {
   "cell_type": "code",
   "execution_count": 26,
   "metadata": {},
   "outputs": [],
   "source": [
    "# predict dummy y_test data based on the logistic model\n",
    "y_test = x_test * model.coef_ + model.intercept_"
   ]
  },
  {
   "cell_type": "code",
   "execution_count": 27,
   "metadata": {},
   "outputs": [],
   "source": [
    "sigmoid_y = expit(y_test)"
   ]
  },
  {
   "cell_type": "code",
   "execution_count": 28,
   "metadata": {},
   "outputs": [
    {
     "data": {
      "text/plain": [
       "<matplotlib.legend.Legend at 0x251e6cee310>"
      ]
     },
     "execution_count": 28,
     "metadata": {},
     "output_type": "execute_result"
    },
    {
     "data": {
      "image/png": "[encoded data removed]",
      "text/plain": [
       "<Figure size 720x504 with 1 Axes>"
      ]
     },
     "metadata": {},
     "output_type": "display_data"
    }
   ],
   "source": [
    "# ravel to convert the 2-d array to a flat array\n",
    "plt.figure(figsize=(10,7))\n",
    "plt.plot(x_test,sigmoid_y.ravel(),c=\"green\", label = \"logistic fit\",zorder=1)\n",
    "plt.scatter(X,y, label=\"average mark\",alpha=0.3,cmap='viridis',zorder=10)\n",
    "plt.axhline(.5, color=\"red\", label=\"threshold\")\n",
    "plt.legend(loc=\"lower right\")"
   ]
  },
  {
   "cell_type": "code",
   "execution_count": 29,
   "metadata": {},
   "outputs": [],
   "source": [
    "def logistic_fit(X,model):\n",
    "  '''\n",
    "  Returns a logistic fit to your data.\n",
    "  '''\n",
    "  x_test = np.linspace(X.min(),X.max(),len(X))\n",
    "  # Here we sum the model coefficients (or weights) because some models have more than one weight.\n",
    "  y_test = x_test * np.sum(model.coef_) + model.intercept_\n",
    "  return x_test,expit(y_test)"
   ]
  },
  {
   "cell_type": "markdown",
   "metadata": {},
   "source": [
    "## Decision boundaries\n",
    "\n",
    "Our current prediction function returns a probability score between 0 and 1. In order to map this to a discrete class (true/false, benign/malign), we select a threshold value or a point above which we will classify values into class 1 and below which we classify values into class 2, such as :\n",
    "\n",
    "$$\n",
    "p \\ge 0.5 , class=1 \\\\\\\\\n",
    "p \\le 0.5 , class=0\n",
    "$$\n",
    "\n",
    "For example, if our threshold was .5 and our prediction function returned .7, we would classify this observation as positive.\n",
    "If our prediction was .2 we would classify the observation as negative."
   ]
  },
  {
   "cell_type": "code",
   "execution_count": 30,
   "metadata": {},
   "outputs": [
    {
     "data": {
      "text/plain": [
       "<matplotlib.legend.Legend at 0x251e6f59370>"
      ]
     },
     "execution_count": 30,
     "metadata": {},
     "output_type": "execute_result"
    },
    {
     "data": {
      "image/png": "[encoded data removed]",
      "text/plain": [
       "<Figure size 432x288 with 1 Axes>"
      ]
     },
     "metadata": {},
     "output_type": "display_data"
    }
   ],
   "source": [
    "plt.plot(x_values, logistic_sigmoid_values, color='red', linewidth=1,label=\"Sigmoid function\")\n",
    "plt.axhline(y=0.5, color='blue', linestyle='--',linewidth=0.5, label='decision boudary')\n",
    "plt.legend()"
   ]
  },
  {
   "cell_type": "markdown",
   "metadata": {},
   "source": [
    "Using our knowledge of sigmoid functions and decision boundaries, we can now write a prediction function. \n",
    "\n",
    "A prediction function in logistic regression returns the probability of our observation being positive, True, or “Yes”. We call this class 1 and its notation is $P(class=1)$\n",
    "\n",
    "We will be using the same function we did for the Linear regression."
   ]
  },
  {
   "cell_type": "code",
   "execution_count": 31,
   "metadata": {},
   "outputs": [],
   "source": [
    "def predict_Y(X, theta):\n",
    "  '''\n",
    "  Returns 1D array of probabilities\n",
    "  that the class label == 1\n",
    "  '''\n",
    "  z = np.dot(X, theta)\n",
    "  return sigmoid(z)"
   ]
  },
  {
   "cell_type": "markdown",
   "metadata": {},
   "source": [
    "# 🚧 Moving to the Logistic Regression"
   ]
  },
  {
   "cell_type": "markdown",
   "metadata": {},
   "source": [
    "Let's go back to our dataset using two features; mark1 and mark2."
   ]
  },
  {
   "cell_type": "code",
   "execution_count": 32,
   "metadata": {},
   "outputs": [
    {
     "data": {
      "text/html": [
       "<div>\n",
       "<style scoped>\n",
       "    .dataframe tbody tr th:only-of-type {\n",
       "        vertical-align: middle;\n",
       "    }\n",
       "\n",
       "    .dataframe tbody tr th {\n",
       "        vertical-align: top;\n",
       "    }\n",
       "\n",
       "    .dataframe thead th {\n",
       "        text-align: right;\n",
       "    }\n",
       "</style>\n",
       "<table border=\"1\" class=\"dataframe\">\n",
       "  <thead>\n",
       "    <tr style=\"text-align: right;\">\n",
       "      <th></th>\n",
       "      <th>mark1</th>\n",
       "      <th>mark2</th>\n",
       "      <th>admitted</th>\n",
       "    </tr>\n",
       "  </thead>\n",
       "  <tbody>\n",
       "    <tr>\n",
       "      <th>0</th>\n",
       "      <td>6.9247</td>\n",
       "      <td>15.605</td>\n",
       "      <td>0</td>\n",
       "    </tr>\n",
       "    <tr>\n",
       "      <th>1</th>\n",
       "      <td>6.0573</td>\n",
       "      <td>8.779</td>\n",
       "      <td>0</td>\n",
       "    </tr>\n",
       "    <tr>\n",
       "      <th>2</th>\n",
       "      <td>7.1695</td>\n",
       "      <td>14.580</td>\n",
       "      <td>0</td>\n",
       "    </tr>\n",
       "    <tr>\n",
       "      <th>3</th>\n",
       "      <td>12.0370</td>\n",
       "      <td>17.262</td>\n",
       "      <td>1</td>\n",
       "    </tr>\n",
       "    <tr>\n",
       "      <th>4</th>\n",
       "      <td>15.8070</td>\n",
       "      <td>15.069</td>\n",
       "      <td>1</td>\n",
       "    </tr>\n",
       "  </tbody>\n",
       "</table>\n",
       "</div>"
      ],
      "text/plain": [
       "     mark1   mark2  admitted\n",
       "0   6.9247  15.605         0\n",
       "1   6.0573   8.779         0\n",
       "2   7.1695  14.580         0\n",
       "3  12.0370  17.262         1\n",
       "4  15.8070  15.069         1"
      ]
     },
     "execution_count": 32,
     "metadata": {},
     "output_type": "execute_result"
    }
   ],
   "source": [
    "df_students.pop('average_mark')\n",
    "df_students.head()"
   ]
  },
  {
   "cell_type": "code",
   "execution_count": 33,
   "metadata": {},
   "outputs": [],
   "source": [
    "features = ['mark1', 'mark2']\n",
    "target = 'admitted'"
   ]
  },
  {
   "cell_type": "code",
   "execution_count": 34,
   "metadata": {},
   "outputs": [
    {
     "data": {
      "text/plain": [
       "((100, 2), (100, 1))"
      ]
     },
     "execution_count": 34,
     "metadata": {},
     "output_type": "execute_result"
    }
   ],
   "source": [
    "X = df_students[features].values\n",
    "y = df_students[target].values.astype(np.int32).reshape(len(y),1)\n",
    "X.shape,y.shape"
   ]
  },
  {
   "cell_type": "code",
   "execution_count": 35,
   "metadata": {},
   "outputs": [],
   "source": [
    "admitted = X[np.where(y==1),:].reshape(-1,2)\n",
    "rejected = X[np.where(y==0),:].reshape(-1,2)"
   ]
  },
  {
   "cell_type": "code",
   "execution_count": 36,
   "metadata": {},
   "outputs": [
    {
     "data": {
      "text/plain": [
       "(array([[ 6.9247, 15.605 ],\n",
       "        [ 6.0573,  8.779 ],\n",
       "        [ 7.1695, 14.58  ],\n",
       "        [12.037 , 17.262 ],\n",
       "        [15.807 , 15.069 ]]),\n",
       " array([[0],\n",
       "        [0],\n",
       "        [0],\n",
       "        [1],\n",
       "        [1]]))"
      ]
     },
     "execution_count": 36,
     "metadata": {},
     "output_type": "execute_result"
    }
   ],
   "source": [
    "X[:5],y[:5]"
   ]
  },
  {
   "cell_type": "code",
   "execution_count": 37,
   "metadata": {},
   "outputs": [
    {
     "data": {
      "text/plain": [
       "<seaborn.axisgrid.PairGrid at 0x251e6de0520>"
      ]
     },
     "execution_count": 37,
     "metadata": {},
     "output_type": "execute_result"
    },
    {
     "data": {
      "image/png": "[encoded data removed]",
      "text/plain": [
       "<Figure size 694.75x432 with 6 Axes>"
      ]
     },
     "metadata": {},
     "output_type": "display_data"
    }
   ],
   "source": [
    "sns.pairplot(df_students, hue='admitted', height=3,aspect=1.5, palette=\"husl\",markers=[\"X\", \"o\"])"
   ]
  },
  {
   "cell_type": "markdown",
   "metadata": {},
   "source": [
    "We notice a tendancy in these data, there may be a line separing the two classes. This reminds us of the decision boundaries we talked about earlier."
   ]
  },
  {
   "cell_type": "code",
   "execution_count": 38,
   "metadata": {},
   "outputs": [
    {
     "data": {
      "text/plain": [
       "1    60\n",
       "0    40\n",
       "Name: admitted, dtype: int64"
      ]
     },
     "execution_count": 38,
     "metadata": {},
     "output_type": "execute_result"
    }
   ],
   "source": [
    "df_students['admitted'].value_counts()"
   ]
  },
  {
   "cell_type": "code",
   "execution_count": 39,
   "metadata": {},
   "outputs": [
    {
     "data": {
      "text/plain": [
       "<AxesSubplot:xlabel='admitted', ylabel='count'>"
      ]
     },
     "execution_count": 39,
     "metadata": {},
     "output_type": "execute_result"
    },
    {
     "data": {
      "image/png": "[encoded data removed]",
      "text/plain": [
       "<Figure size 216x360 with 1 Axes>"
      ]
     },
     "metadata": {},
     "output_type": "display_data"
    }
   ],
   "source": [
    "plt.figure(figsize=(3,5))\n",
    "sns.countplot(x='admitted',data=df_students,palette='hls')"
   ]
  },
  {
   "cell_type": "markdown",
   "metadata": {},
   "source": [
    "# 🔨 Model Building"
   ]
  },
  {
   "cell_type": "markdown",
   "metadata": {},
   "source": [
    "Let's reuse the functions we made on the previous notebook.\n",
    "\n",
    "Since we are dealing with a regression problem, we will always need a column of ones stacked to our features that will be multipied by the biais $\\theta_{0}$. "
   ]
  },
  {
   "cell_type": "code",
   "execution_count": 40,
   "metadata": {},
   "outputs": [],
   "source": [
    "def add_theta_0(X):\n",
    "  intercept = np.ones(len(X))\n",
    "  return np.vstack((intercept, X.T)).T"
   ]
  },
  {
   "cell_type": "markdown",
   "metadata": {},
   "source": [
    "As for every regression problem, weight parameters need to be initialized."
   ]
  },
  {
   "cell_type": "code",
   "execution_count": 41,
   "metadata": {},
   "outputs": [],
   "source": [
    "def initialize_theta(n_features,is_random=True):\n",
    "  '''\n",
    "  Returns bias (intercept) and weight for a vector X of n features in the form of a ndarray [theta_0,theta_1,..., theta_n].\n",
    "  theta_0 being the bias, and the others the weights.\n",
    "  n has to be greater or equal to 1.\n",
    "  \n",
    "  Parameters:\n",
    "  n_features: number of features of X. If errors occur, reshape(-1,1) your vector.\n",
    "  is_random: if set to False, will set values of bias and theta to zero.\n",
    "  '''\n",
    "  if is_random:\n",
    "    return np.random.rand(n_features,1) \n",
    "  else:\n",
    "    return np.zeros(shape=(n_features,1))"
   ]
  },
  {
   "cell_type": "markdown",
   "metadata": {},
   "source": [
    "## 💱 Another cost function\n",
    "\n",
    "In linear regression, we used a cost function known as **MSE** (Mean Squared Error),also called L2 loss.\n",
    "\n",
    "Unfortunately we can’t (or at least shouldn’t) use the same cost function MSE (L2) as we did for linear regression. \n",
    "Why? There is a great math explanation : *using MSE means that we assume that the underlying data has been generated from a normal distribution (a bell-shaped curve). In Bayesian terms this means we assume a Gaussian prior. While in reality, a dataset that can be classified into two categories (i.e binary) is not from a normal distribution but a Bernoulli distribution.* (ref no.6)\n",
    "* This means that Binary Classification presents a unique problem : each example $(x, y)$ belongs to one of two complementary classes.\n",
    "\n",
    " Further, we only need to predict for the positive class i.e $P(y=1 | x ) = \\hat{p}$ because the probability for the negative class can be derived from it i.e :\n",
    " $$P(y=0 | x ) =1-P(y=1 | x ) = 1-p̂$$\n",
    "\n",
    "\n",
    "A good binary classifier should produce a high value of p̂ when the example has a positive label(y=1). On the other hand, for a negative labeled example(y=0) the classifier should produce a low value of p̂. In other words: \n",
    "- maximize p̂ when y=1 and\n",
    "- maximize 1-p̂ when y=0.\n",
    "\n",
    "Another reason is that the MSE function is non-convex for binary classification. In simple terms, if a binary classification model is trained with MSE Cost function, it is not guaranteed to minimize the Cost function. This is because MSE function expects real-valued inputs in range(-∞, ∞), while binary classification models output probabilities in range(0,1) through the sigmoid/logistic function.\n",
    "\n",
    "<center><img src=\"images/mse_sigmoid.png\"></center>\n"
   ]
  },
  {
   "cell_type": "markdown",
   "metadata": {},
   "source": [
    "For now,let's simply say it’s because our prediction function is non-linear (due to sigmoid transform). Squaring this prediction as we do in MSE results in a non-convex function with many local minimums. If our cost function has many local minimums, gradient descent may not find the optimal global minimum.\n",
    "\n",
    "*MSE is a good choice for a Cost function when we are doing Linear Regression (i.e fitting a line through data for extrapolation). In the absence of any knowledge of how the data is distributed assuming normal/gaussian distribution is perfectly reasonable.*\n",
    "\n",
    "Instead of Mean Squared Error, we use a cost function called *Cross-Entropy*, also known as Log Loss. Cross-entropy loss can be divided into two separate cost functions: one for $y=1$ and one for $y=0$.\n",
    "\n"
   ]
  },
  {
   "cell_type": "markdown",
   "metadata": {},
   "source": [
    "$$ J(\\theta) = \\frac{1}{m} \\sum_{i=1}^{m}cost(h_{\\theta}(x^{(i)}),y^{(i)})$$\n",
    "\n",
    "Where : \n",
    "- $cost(h_{\\theta}(x),y) = -\\log(h_{\\theta}(x))$ if $y=1$\n",
    "- $cost(h_{\\theta}(x),y) = -\\log(1 - h_{\\theta}(x))$ if $y=0$\n"
   ]
  },
  {
   "cell_type": "code",
   "execution_count": 42,
   "metadata": {},
   "outputs": [],
   "source": [
    "def h_theta(X,theta):\n",
    "  return sigmoid(X.dot(theta))"
   ]
  },
  {
   "cell_type": "code",
   "execution_count": 43,
   "metadata": {},
   "outputs": [],
   "source": [
    "def cross_entropy(y, h_theta):\n",
    "    if np.any(y) == 1:\n",
    "      return -np.log(h_theta)\n",
    "    else:\n",
    "      return -np.log(1 - h_theta)"
   ]
  },
  {
   "cell_type": "code",
   "execution_count": 44,
   "metadata": {},
   "outputs": [],
   "source": [
    "def compute_cost(X,y,theta):  \n",
    "    '''\n",
    "    Returns the cost function value.\n",
    "    '''\n",
    "    m = len(y)\n",
    "    # initialize J (the cost)\n",
    "    J = 0 \n",
    "\n",
    "    # Calculate h = X * theta \n",
    "    h = h_theta(X,theta)\n",
    "    \n",
    "    cost = cross_entropy(y,h)\n",
    "    \n",
    "    # Compute the total cost J \n",
    "    J = cost.sum()/m\n",
    "     \n",
    "    return J"
   ]
  },
  {
   "cell_type": "markdown",
   "metadata": {},
   "source": [
    "Instead of these two conditions, we can write the above cost function into a compressed one : \n",
    "\n",
    "$$ J(\\theta) = -\\frac{1}{m} \\sum_{i=1}^{m}[y^{(i)}\\log(h_{\\theta}(x^{(i)}) + (1 - y^{(i)})\\log(1 - h_{\\theta}(x^{(i)}))]$$"
   ]
  },
  {
   "cell_type": "code",
   "execution_count": 45,
   "metadata": {},
   "outputs": [],
   "source": [
    "def get_cost(X,y,theta):  \n",
    "       \n",
    "    m = len(y)\n",
    "\n",
    "    # Calculate h = X * theta \n",
    "    h = h_theta(X,theta)\n",
    "    \n",
    "    return -1/m * np.sum((y * np.log(h) + (1 - y) * np.log(1 - h)))"
   ]
  },
  {
   "cell_type": "code",
   "execution_count": 46,
   "metadata": {},
   "outputs": [],
   "source": [
    "import time\n",
    "def gradient_descent(X, y, theta, num_iters=100, alpha=0.0001,verbose=False):\n",
    "  '''\n",
    "  Parameters:\n",
    "  X : training samples\n",
    "  y : training labels\n",
    "  num_iters : epoches of the algorithm to reach convergence\n",
    "  alpha: step of the partial derivatives\n",
    "  verbose : if set to True, will log the values of the cost and theta values.\n",
    "  \n",
    "  Returns theta updated values of theta, cost_history and theta history.\n",
    "  '''\n",
    "  \n",
    "  # Number of training examples\n",
    "  m = len(y)\n",
    "                    \n",
    "  # History of costs\n",
    "  result_idx = 0\n",
    "  gd_iterations_df = pd.DataFrame(columns=['iteration','cost']) \n",
    "  J_history = [] \n",
    "  theta_history = []\n",
    "  parameters_out = {}\n",
    "  \n",
    "  # Append the initial cost\n",
    "  gd_iterations_df.loc[result_idx]=[0,get_cost(X,y,theta)]\n",
    "  result_idx += 1\n",
    "  \n",
    "  start = time.time()\n",
    "  for i in range(1,num_iters+1):\n",
    "    \n",
    "      # Step 1 : Calculate h = sigmoid(X * theta)\n",
    "      h = h_theta(X,theta)\n",
    "      \n",
    "      # Step 2 :Calculate the error = (h - y) \n",
    "      error = np.subtract(h, y)\n",
    "      \n",
    "      # Step 3 : Calculate the new theta\n",
    "      theta_new = alpha * 1/m * np.sum(np.dot(X.T, error),axis=1).reshape(-1,1)\n",
    "      # Step 4 : Update theta\n",
    "      theta = np.subtract(theta, theta_new)\n",
    "\n",
    "      # Step 5 : Compute the cost to keep history of it\n",
    "      cost = get_cost(X,y,theta)\n",
    "      \n",
    "      gd_iterations_df.loc[result_idx]=[i,cost]\n",
    "      result_idx += 1\n",
    "      \n",
    "      J_history.append(cost)\n",
    "      theta_history.append(theta.tolist())\n",
    "      \n",
    "  parameters_out[\"bias\"] = theta[0][0]\n",
    "  parameters_out[\"weight\"] = theta[1:]    \n",
    "  if verbose:\n",
    "      print('{}/{} [>==================]  - loss: {:.2f} - theta = {}'.format(i+1,num_iters,cost,theta))\n",
    "          \n",
    "  print('Time spent: {:0.2f}s'.format(time.time()-start))\n",
    "\n",
    "  return parameters_out,theta, theta_history, J_history,gd_iterations_df "
   ]
  },
  {
   "cell_type": "markdown",
   "metadata": {},
   "source": [
    "## 🧪 Trying our model"
   ]
  },
  {
   "cell_type": "code",
   "execution_count": 47,
   "metadata": {},
   "outputs": [
    {
     "data": {
      "text/plain": [
       "array([[ 1.    ,  6.9247, 15.605 ],\n",
       "       [ 1.    ,  6.0573,  8.779 ],\n",
       "       [ 1.    ,  7.1695, 14.58  ],\n",
       "       [ 1.    , 12.037 , 17.262 ],\n",
       "       [ 1.    , 15.807 , 15.069 ]])"
      ]
     },
     "execution_count": 47,
     "metadata": {},
     "output_type": "execute_result"
    }
   ],
   "source": [
    "X = add_theta_0(X)\n",
    "X[:5]"
   ]
  },
  {
   "cell_type": "code",
   "execution_count": 48,
   "metadata": {},
   "outputs": [
    {
     "data": {
      "text/plain": [
       "array([[0.],\n",
       "       [0.],\n",
       "       [0.]])"
      ]
     },
     "execution_count": 48,
     "metadata": {},
     "output_type": "execute_result"
    }
   ],
   "source": [
    "theta = initialize_theta(X.shape[1],is_random=False)\n",
    "theta"
   ]
  },
  {
   "cell_type": "code",
   "execution_count": 49,
   "metadata": {},
   "outputs": [
    {
     "name": "stdout",
     "output_type": "stream",
     "text": [
      "initial cost:  0.6931471805599453\n"
     ]
    }
   ],
   "source": [
    "initial_cost = compute_cost(X,y,theta)\n",
    "print('initial cost: ',initial_cost)"
   ]
  },
  {
   "cell_type": "code",
   "execution_count": 50,
   "metadata": {},
   "outputs": [],
   "source": [
    "iterations = 30000\n",
    "my_alpha = 0.08"
   ]
  },
  {
   "cell_type": "code",
   "execution_count": 51,
   "metadata": {},
   "outputs": [
    {
     "name": "stdout",
     "output_type": "stream",
     "text": [
      "Time spent: 26.49s\n"
     ]
    }
   ],
   "source": [
    "# Appel\n",
    "parameters_out,theta, theta_history, J_history,gd_iterations_df = gradient_descent(X, y, theta, num_iters=iterations, alpha=my_alpha)"
   ]
  },
  {
   "cell_type": "code",
   "execution_count": 55,
   "metadata": {},
   "outputs": [
    {
     "data": {
      "text/plain": [
       "array([[-21.97428991],\n",
       "       [  0.90377371],\n",
       "       [  0.87836282]])"
      ]
     },
     "execution_count": 55,
     "metadata": {},
     "output_type": "execute_result"
    }
   ],
   "source": [
    "theta"
   ]
  },
  {
   "cell_type": "code",
   "execution_count": 56,
   "metadata": {},
   "outputs": [
    {
     "data": {
      "text/html": [
       "<div>\n",
       "<style scoped>\n",
       "    .dataframe tbody tr th:only-of-type {\n",
       "        vertical-align: middle;\n",
       "    }\n",
       "\n",
       "    .dataframe tbody tr th {\n",
       "        vertical-align: top;\n",
       "    }\n",
       "\n",
       "    .dataframe thead th {\n",
       "        text-align: right;\n",
       "    }\n",
       "</style>\n",
       "<table border=\"1\" class=\"dataframe\">\n",
       "  <thead>\n",
       "    <tr style=\"text-align: right;\">\n",
       "      <th></th>\n",
       "      <th>iteration</th>\n",
       "      <th>cost</th>\n",
       "    </tr>\n",
       "  </thead>\n",
       "  <tbody>\n",
       "    <tr>\n",
       "      <th>0</th>\n",
       "      <td>0.0</td>\n",
       "      <td>0.693147</td>\n",
       "    </tr>\n",
       "    <tr>\n",
       "      <th>1</th>\n",
       "      <td>1.0</td>\n",
       "      <td>1.602053</td>\n",
       "    </tr>\n",
       "    <tr>\n",
       "      <th>2</th>\n",
       "      <td>2.0</td>\n",
       "      <td>2.631154</td>\n",
       "    </tr>\n",
       "    <tr>\n",
       "      <th>3</th>\n",
       "      <td>3.0</td>\n",
       "      <td>4.646483</td>\n",
       "    </tr>\n",
       "    <tr>\n",
       "      <th>4</th>\n",
       "      <td>4.0</td>\n",
       "      <td>1.728550</td>\n",
       "    </tr>\n",
       "    <tr>\n",
       "      <th>...</th>\n",
       "      <td>...</td>\n",
       "      <td>...</td>\n",
       "    </tr>\n",
       "    <tr>\n",
       "      <th>29996</th>\n",
       "      <td>29996.0</td>\n",
       "      <td>0.205190</td>\n",
       "    </tr>\n",
       "    <tr>\n",
       "      <th>29997</th>\n",
       "      <td>29997.0</td>\n",
       "      <td>0.205189</td>\n",
       "    </tr>\n",
       "    <tr>\n",
       "      <th>29998</th>\n",
       "      <td>29998.0</td>\n",
       "      <td>0.205189</td>\n",
       "    </tr>\n",
       "    <tr>\n",
       "      <th>29999</th>\n",
       "      <td>29999.0</td>\n",
       "      <td>0.205189</td>\n",
       "    </tr>\n",
       "    <tr>\n",
       "      <th>30000</th>\n",
       "      <td>30000.0</td>\n",
       "      <td>0.205189</td>\n",
       "    </tr>\n",
       "  </tbody>\n",
       "</table>\n",
       "<p>30001 rows × 2 columns</p>\n",
       "</div>"
      ],
      "text/plain": [
       "       iteration      cost\n",
       "0            0.0  0.693147\n",
       "1            1.0  1.602053\n",
       "2            2.0  2.631154\n",
       "3            3.0  4.646483\n",
       "4            4.0  1.728550\n",
       "...          ...       ...\n",
       "29996    29996.0  0.205190\n",
       "29997    29997.0  0.205189\n",
       "29998    29998.0  0.205189\n",
       "29999    29999.0  0.205189\n",
       "30000    30000.0  0.205189\n",
       "\n",
       "[30001 rows x 2 columns]"
      ]
     },
     "execution_count": 56,
     "metadata": {},
     "output_type": "execute_result"
    }
   ],
   "source": [
    "gd_iterations_df"
   ]
  },
  {
   "cell_type": "code",
   "execution_count": 57,
   "metadata": {},
   "outputs": [
    {
     "data": {
      "text/plain": [
       "{'bias': -21.974289914560803,\n",
       " 'weight': array([[0.90377371],\n",
       "        [0.87836282]])}"
      ]
     },
     "execution_count": 57,
     "metadata": {},
     "output_type": "execute_result"
    }
   ],
   "source": [
    "parameters_out"
   ]
  },
  {
   "cell_type": "code",
   "execution_count": 58,
   "metadata": {},
   "outputs": [],
   "source": [
    "np.set_printoptions(suppress=True)"
   ]
  },
  {
   "cell_type": "code",
   "execution_count": 59,
   "metadata": {},
   "outputs": [
    {
     "data": {
      "text/plain": [
       "array([[0.11825325],\n",
       "       [0.00015242],\n",
       "       [0.06367597],\n",
       "       [0.98315534],\n",
       "       [0.99611875]])"
      ]
     },
     "execution_count": 59,
     "metadata": {},
     "output_type": "execute_result"
    }
   ],
   "source": [
    "predictions = h_theta(X,theta)\n",
    "predictions[:5]"
   ]
  },
  {
   "cell_type": "markdown",
   "metadata": {},
   "source": [
    "Mapping to a classification vector."
   ]
  },
  {
   "cell_type": "code",
   "execution_count": 60,
   "metadata": {},
   "outputs": [
    {
     "data": {
      "text/plain": [
       "array([[0],\n",
       "       [0],\n",
       "       [0],\n",
       "       [1],\n",
       "       [1]])"
      ]
     },
     "execution_count": 60,
     "metadata": {},
     "output_type": "execute_result"
    }
   ],
   "source": [
    "classifications = np.where(predictions > 0.5, 1, 0)\n",
    "classifications[:5]"
   ]
  },
  {
   "cell_type": "code",
   "execution_count": 61,
   "metadata": {},
   "outputs": [
    {
     "name": "stdout",
     "output_type": "stream",
     "text": [
      "Our accuracy:  89.0\n"
     ]
    }
   ],
   "source": [
    "my_model_acc = np.mean(classifications==y)*100\n",
    "print('Our accuracy: ',my_model_acc)"
   ]
  },
  {
   "cell_type": "markdown",
   "metadata": {},
   "source": [
    "To check if our model performs well, let's define and use the accuracy measure we defined in our fist notebook.\n"
   ]
  },
  {
   "cell_type": "code",
   "execution_count": 62,
   "metadata": {},
   "outputs": [],
   "source": [
    "def accuracy(predicted_labels, actual_labels):\n",
    "  '''\n",
    "  Accuracy measures how correct our predictions were. \n",
    "  In this case we simply compare predicted labels to true labels and divide by the total.\n",
    "  '''\n",
    "  classifications = np.where(predicted_labels > 0.5, 1, 0)\n",
    "  return np.mean(classifications==actual_labels)*100 "
   ]
  },
  {
   "cell_type": "code",
   "execution_count": 63,
   "metadata": {},
   "outputs": [
    {
     "data": {
      "text/plain": [
       "89.0"
      ]
     },
     "execution_count": 63,
     "metadata": {},
     "output_type": "execute_result"
    }
   ],
   "source": [
    "accuracy(predictions,y)"
   ]
  },
  {
   "cell_type": "markdown",
   "metadata": {},
   "source": [
    "### History"
   ]
  },
  {
   "cell_type": "code",
   "execution_count": 64,
   "metadata": {},
   "outputs": [
    {
     "data": {
      "text/plain": [
       "Text(0, 0.5, 'Cross Entropy')"
      ]
     },
     "execution_count": 64,
     "metadata": {},
     "output_type": "execute_result"
    },
    {
     "data": {
      "image/png": "[encoded data removed]",
      "text/plain": [
       "<Figure size 432x288 with 1 Axes>"
      ]
     },
     "metadata": {},
     "output_type": "display_data"
    }
   ],
   "source": [
    "# Plot the J history\n",
    "plt.plot(J_history[0:len(J_history)], color='blue', linewidth=1)\n",
    "plt.xlabel(\"Iterations\")\n",
    "plt.ylabel(\"Cross Entropy\")"
   ]
  },
  {
   "cell_type": "code",
   "execution_count": 65,
   "metadata": {},
   "outputs": [
    {
     "data": {
      "text/plain": [
       "<matplotlib.legend.Legend at 0x251e8b69f70>"
      ]
     },
     "execution_count": 65,
     "metadata": {},
     "output_type": "execute_result"
    },
    {
     "data": {
      "image/png": "[encoded data removed]",
      "text/plain": [
       "<Figure size 432x288 with 1 Axes>"
      ]
     },
     "metadata": {},
     "output_type": "display_data"
    }
   ],
   "source": [
    "history = np.asarray(theta_history)\n",
    "\n",
    "theta_0 = history[:,0]\n",
    "theta_1 = history[:,1]\n",
    "theta_2 = history[:,2]\n",
    "\n",
    "plt.plot(theta_0[0:len(theta_0)], color='red', label='theta_0')\n",
    "plt.plot(theta_1[0:len(theta_1)], color='green', label='theta_1')\n",
    "plt.plot(theta_1[0:len(theta_2)], color='yellow', label='theta_2')\n",
    "plt.xlabel(\"Iterations\")\n",
    "plt.ylabel(\"theta\")\n",
    "plt.legend()"
   ]
  },
  {
   "cell_type": "markdown",
   "metadata": {},
   "source": [
    "#  ✂ Drawing the Decision Boundary\n",
    "\n",
    "## Mapping probabilities to classes\n",
    "\n",
    "The final step is assign class labels (0 or 1) to our predicted probabilities."
   ]
  },
  {
   "cell_type": "code",
   "execution_count": 66,
   "metadata": {},
   "outputs": [],
   "source": [
    "def decision_boundary(prob):\n",
    "  return 1 if prob >= .5 else 0"
   ]
  },
  {
   "cell_type": "code",
   "execution_count": 67,
   "metadata": {},
   "outputs": [],
   "source": [
    "sns.set_context(\"paper\")\n",
    "sns.set(rc={'figure.figsize':(11.7,8.27)})\n",
    "plt.style.use('bmh')"
   ]
  },
  {
   "cell_type": "code",
   "execution_count": 68,
   "metadata": {},
   "outputs": [
    {
     "data": {
      "text/plain": [
       "<AxesSubplot:xlabel='mark1', ylabel='mark2'>"
      ]
     },
     "execution_count": 68,
     "metadata": {},
     "output_type": "execute_result"
    },
    {
     "data": {
      "image/png": "[encoded data removed]",
      "text/plain": [
       "<Figure size 842.4x595.44 with 1 Axes>"
      ]
     },
     "metadata": {},
     "output_type": "display_data"
    }
   ],
   "source": [
    "markers = {1: \"o\", 0: \"X\"}\n",
    "hue_order = [1,0]\n",
    "sns.scatterplot(data=df_students, x=\"mark1\", y=\"mark2\",hue=\"admitted\",style=\"admitted\",markers=markers,hue_order=hue_order)"
   ]
  },
  {
   "cell_type": "markdown",
   "metadata": {},
   "source": [
    "We notice that there is a line separing admitted students from rejected ones, let's try to draw that line.\n",
    "\n",
    "\n",
    "🔺 To do : add explanations for finding the $c$ and $m$ coefficients."
   ]
  },
  {
   "cell_type": "code",
   "execution_count": 69,
   "metadata": {},
   "outputs": [],
   "source": [
    "def plot_decision_line(X,parameters):\n",
    "  # Retrieve the model parameters.\n",
    "  b = parameters['bias']\n",
    "  w1, w2 = parameters['weight']\n",
    "  \n",
    "  # Calculate the intercept and gradient of the decision boundary.\n",
    "  c = -b/w2\n",
    "  m = -w1/w2\n",
    "  \n",
    "  # Plot the data and the classification with the decision boundary.\n",
    "  xmin, xmax = X.min(), X.max()\n",
    "  ymin, ymax = m*X.min() + c,m*X.max()+ c\n",
    "  \n",
    "  xd = np.array([xmin, xmax])\n",
    "  yd = m*xd + c\n",
    "  \n",
    "  plt.plot(xd, yd, 'k', lw=1, ls='--',alpha=0.2)\n",
    "  plt.fill_between(xd, yd, ymin, color='tab:blue', alpha=0.2)\n",
    "  plt.fill_between(xd, yd, ymax, color='tab:red', alpha=0.2)"
   ]
  },
  {
   "cell_type": "code",
   "execution_count": 89,
   "metadata": {},
   "outputs": [
    {
     "data": {
      "text/plain": [
       "6.0118"
      ]
     },
     "execution_count": 89,
     "metadata": {},
     "output_type": "execute_result"
    }
   ],
   "source": [
    "X[:,1].min()"
   ]
  },
  {
   "cell_type": "code",
   "execution_count": 93,
   "metadata": {},
   "outputs": [
    {
     "data": {
      "text/plain": [
       "<matplotlib.legend.Legend at 0x251ec46f970>"
      ]
     },
     "execution_count": 93,
     "metadata": {},
     "output_type": "execute_result"
    },
    {
     "data": {
      "image/png": "[encoded data removed]",
      "text/plain": [
       "<Figure size 842.4x595.44 with 1 Axes>"
      ]
     },
     "metadata": {},
     "output_type": "display_data"
    }
   ],
   "source": [
    "markers = {1: \"o\", 0: \"X\"}\n",
    "hue_order = [1,0]\n",
    "sns.scatterplot(data=df_students, x=\"mark1\", y=\"mark2\",hue=\"admitted\",style=\"admitted\",markers=markers,hue_order=hue_order)\n",
    "plot_decision_line(X,parameters_out)\n",
    "plt.xlim([6, 19])\n",
    "plt.ylim([6, 19])\n",
    "plt.xlabel('Mark 1')\n",
    "plt.ylabel('Mark 2')\n",
    "plt.legend(['Not Admitted', 'Admitted'])"
   ]
  },
  {
   "cell_type": "markdown",
   "metadata": {},
   "source": [
    "# 🧙🏻‍♀️ Predictions"
   ]
  },
  {
   "cell_type": "markdown",
   "metadata": {},
   "source": [
    "Let's predict if some students can get accepted or not.\n",
    "\n",
    "We first have to define a function that returns a probability, and another one that classify that probability.\n",
    "\n",
    "We set earlier our threshold to be 0.5 since it's a binary classification."
   ]
  },
  {
   "cell_type": "code",
   "execution_count": 94,
   "metadata": {},
   "outputs": [],
   "source": [
    "def predict_proba(X,theta):\n",
    "  if X.shape[0] != theta.shape[0]:\n",
    "    X = add_theta_0(X)\n",
    "  return sigmoid(X.dot(theta))"
   ]
  },
  {
   "cell_type": "code",
   "execution_count": 95,
   "metadata": {},
   "outputs": [],
   "source": [
    "def classify(predictions):\n",
    "  '''\n",
    "  input  - N element array of predictions between 0 and 1\n",
    "  output - N element array of 0s (False) and 1s (True)\n",
    "  '''\n",
    "  db = np.vectorize(decision_boundary)\n",
    "  return db(predictions).flatten()"
   ]
  },
  {
   "cell_type": "code",
   "execution_count": 96,
   "metadata": {},
   "outputs": [],
   "source": [
    "# Predict for a students with grades 9 and 17\n",
    "student1 = np.array([[9,17]])\n",
    "predict1 = predict_proba(student1,theta)"
   ]
  },
  {
   "cell_type": "code",
   "execution_count": 97,
   "metadata": {},
   "outputs": [
    {
     "name": "stdout",
     "output_type": "stream",
     "text": [
      "For a student with mark1=9 & mark2=17 -> percentage of admission would be : 74.87%\n"
     ]
    }
   ],
   "source": [
    "print('For a student with mark1={} & mark2={} -> percentage of admission would be : {:.2f}%'.format(student1[0][0],student1[0][1],predict1[0][0]*100))"
   ]
  },
  {
   "cell_type": "markdown",
   "metadata": {},
   "source": [
    "The function ``classify()`` returns a type of *\"categorical\"* answer to the question : \"Will the student be admitted?\"."
   ]
  },
  {
   "cell_type": "code",
   "execution_count": 98,
   "metadata": {},
   "outputs": [],
   "source": [
    "def is_admitted(prediction):\n",
    "  if classify(prediction) == 1:\n",
    "    print('The student has chances of being admitted')\n",
    "  else:\n",
    "    print('The student will be rejected.')"
   ]
  },
  {
   "cell_type": "code",
   "execution_count": 99,
   "metadata": {},
   "outputs": [
    {
     "name": "stdout",
     "output_type": "stream",
     "text": [
      "The student has chances of being admitted\n"
     ]
    }
   ],
   "source": [
    "is_admitted(predict1)"
   ]
  },
  {
   "cell_type": "code",
   "execution_count": 100,
   "metadata": {},
   "outputs": [],
   "source": [
    "# Predict for a students with grades 7 and 5\n",
    "student2 = np.array([[7,5]])\n",
    "predict2 = predict_proba(student2,theta)"
   ]
  },
  {
   "cell_type": "code",
   "execution_count": 101,
   "metadata": {},
   "outputs": [
    {
     "name": "stdout",
     "output_type": "stream",
     "text": [
      "For a student with mark1=7 & mark2=5 -> percentage of admission would be : 0.00%\n"
     ]
    }
   ],
   "source": [
    "print('For a student with mark1={} & mark2={} -> percentage of admission would be : {:.2f}%'.format(student2[0][0],student2[0][1],predict2[0][0]*100))"
   ]
  },
  {
   "cell_type": "code",
   "execution_count": 102,
   "metadata": {},
   "outputs": [
    {
     "name": "stdout",
     "output_type": "stream",
     "text": [
      "The student will be rejected.\n"
     ]
    }
   ],
   "source": [
    "is_admitted(predict2)"
   ]
  },
  {
   "cell_type": "markdown",
   "metadata": {},
   "source": [
    "# 🔬 Comparison with scikit-learn\n",
    "Let's compare our implementation with the sklearn library."
   ]
  },
  {
   "cell_type": "code",
   "execution_count": 103,
   "metadata": {},
   "outputs": [],
   "source": [
    "from sklearn.linear_model import LogisticRegression"
   ]
  },
  {
   "cell_type": "code",
   "execution_count": 104,
   "metadata": {},
   "outputs": [],
   "source": [
    "logisticRegr = LogisticRegression()"
   ]
  },
  {
   "cell_type": "code",
   "execution_count": 105,
   "metadata": {},
   "outputs": [],
   "source": [
    "X = df_students[features].values\n",
    "y = df_students[target].values.astype(np.int32)"
   ]
  },
  {
   "cell_type": "code",
   "execution_count": 106,
   "metadata": {},
   "outputs": [
    {
     "data": {
      "text/plain": [
       "LogisticRegression()"
      ]
     },
     "execution_count": 106,
     "metadata": {},
     "output_type": "execute_result"
    }
   ],
   "source": [
    "logisticRegr.fit(X, y)"
   ]
  },
  {
   "cell_type": "code",
   "execution_count": 107,
   "metadata": {},
   "outputs": [
    {
     "name": "stdout",
     "output_type": "stream",
     "text": [
      "Our parameters -> {'bias': -21.974289914560803, 'weight': array([[0.90377371],\n",
      "       [0.87836282]])}\n"
     ]
    }
   ],
   "source": [
    "print('Our parameters ->',parameters_out)"
   ]
  },
  {
   "cell_type": "code",
   "execution_count": 109,
   "metadata": {},
   "outputs": [
    {
     "name": "stdout",
     "output_type": "stream",
     "text": [
      "Sklearn parameter -> biais:  [-22.93181743] weight:  [[0.94159608 0.91667148]]\n"
     ]
    }
   ],
   "source": [
    "print('Sklearn parameter -> biais: ',logisticRegr.intercept_,'weight: ',logisticRegr.coef_)"
   ]
  },
  {
   "cell_type": "code",
   "execution_count": 110,
   "metadata": {},
   "outputs": [
    {
     "data": {
      "text/plain": [
       "array([[0.24490697, 0.75509303]])"
      ]
     },
     "execution_count": 110,
     "metadata": {},
     "output_type": "execute_result"
    }
   ],
   "source": [
    "student1 = np.array([[9,17]])\n",
    "logisticRegr.predict_proba(student1)"
   ]
  },
  {
   "cell_type": "code",
   "execution_count": 111,
   "metadata": {},
   "outputs": [
    {
     "name": "stdout",
     "output_type": "stream",
     "text": [
      "Sklearn accuracy:  0.89\n"
     ]
    }
   ],
   "source": [
    "print('Sklearn accuracy: ',logisticRegr.score(X,y))"
   ]
  },
  {
   "cell_type": "code",
   "execution_count": 112,
   "metadata": {},
   "outputs": [
    {
     "name": "stdout",
     "output_type": "stream",
     "text": [
      "Our accuracy:  89.0\n"
     ]
    }
   ],
   "source": [
    "print('Our accuracy: ',my_model_acc)"
   ]
  },
  {
   "cell_type": "markdown",
   "metadata": {},
   "source": [
    "In sklearn, the ``predict_proba`` method returns a vector of probabilities for each class, it can be read as : 24% of getting rejected and 75% of getting accepted."
   ]
  },
  {
   "cell_type": "code",
   "execution_count": 113,
   "metadata": {},
   "outputs": [
    {
     "data": {
      "text/plain": [
       "array([1])"
      ]
     },
     "execution_count": 113,
     "metadata": {},
     "output_type": "execute_result"
    }
   ],
   "source": [
    "logisticRegr.predict(student1)"
   ]
  },
  {
   "cell_type": "markdown",
   "metadata": {},
   "source": [
    "We're not far from the sklearn implementation, the problem is in finding the optimal values for the learning rate."
   ]
  },
  {
   "cell_type": "markdown",
   "metadata": {},
   "source": [
    "Let's visualize the sigmoid curve again! This will give more intuition for our model !"
   ]
  },
  {
   "cell_type": "code",
   "execution_count": 114,
   "metadata": {},
   "outputs": [],
   "source": [
    "x_sig,y_sig = logistic_fit(X,logisticRegr)"
   ]
  },
  {
   "cell_type": "code",
   "execution_count": 115,
   "metadata": {},
   "outputs": [
    {
     "data": {
      "text/plain": [
       "<matplotlib.legend.Legend at 0x251ec835280>"
      ]
     },
     "execution_count": 115,
     "metadata": {},
     "output_type": "execute_result"
    },
    {
     "data": {
      "image/png": "[encoded data removed]",
      "text/plain": [
       "<Figure size 842.4x595.44 with 1 Axes>"
      ]
     },
     "metadata": {},
     "output_type": "display_data"
    }
   ],
   "source": [
    "plt.scatter(X[:,0],y,alpha=0.3,cmap='viridis',label=\"mark1\",zorder=10)\n",
    "plt.scatter(X[:,1],y,alpha=0.3,cmap='viridis',label=\"mark2\",zorder=10)\n",
    "plt.plot(x_sig,y_sig.ravel(),c=\"green\",alpha=0.8, label = \"logistic fit\",zorder=1)\n",
    "plt.axhline(.5, color=\"red\",alpha=0.3, label=\"threshold\")\n",
    "plt.legend()"
   ]
  },
  {
   "cell_type": "markdown",
   "metadata": {},
   "source": [
    "# 👨‍👩‍👧‍👦 MultiClass Classification or OneVsAll\n",
    "\n",
    "Train a logistic regression classifier $h_{\\theta}^{(i)}(x)$ for each class $i$ to predict the probability that $y=i$."
   ]
  },
  {
   "cell_type": "markdown",
   "metadata": {},
   "source": [
    "# 📚 Ressources and References\n",
    "\n",
    "1. *A logistic regression from scratch*,https://towardsdatascience.com/a-logistic-regression-from-scratch-3824468b1f88\n",
    "2. *Logistic Regression Machine Learning Algorithm in Python from Scratch*,https://dhirajkumarblog.medium.com/logistic-regression-in-python-from-scratch-5b901d72d68e\n",
    "3. *Building A Logistic Regression in Python, Step by Step*, https://towardsdatascience.com/building-a-logistic-regression-in-python-step-by-step-becd4d56c9c8\n",
    "4. *Why Using Mean Squared Error(MSE) Cost Function for Binary Classification is a Bad Idea?*,https://towardsdatascience.com/why-using-mean-squared-error-mse-cost-function-for-binary-classification-is-a-bad-idea-933089e90df7\n",
    "5. *Where did the Binary Cross-Entropy Loss Function come from?*, https://towardsdatascience.com/where-did-the-binary-cross-entropy-loss-function-come-from-ac3de349a715\n",
    "6. *ML Cheatsheet, Logistic Regression*, https://ml-cheatsheet.readthedocs.io/en/latest/logistic_regression.html\n",
    "7. *Loss functions*, https://ml-cheatsheet.readthedocs.io/en/latest/loss_functions.html#loss-cross-entropy\n",
    "8. *Logistic Regression and Sigmoid*,https://ajaytech.co/python-logistic-regression/"
   ]
  }
 ],
 "metadata": {
  "kernelspec": {
   "display_name": "Python 3",
   "language": "python",
   "name": "python3"
  },
  "language_info": {
   "codemirror_mode": {
    "name": "ipython",
    "version": 3
   },
   "file_extension": ".py",
   "mimetype": "text/x-python",
   "name": "python",
   "nbconvert_exporter": "python",
   "pygments_lexer": "ipython3",
   "version": "3.8.8"
  }
 },
 "nbformat": 4,
 "nbformat_minor": 2
}
