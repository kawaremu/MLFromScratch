{
 "cells": [
  {
   "cell_type": "markdown",
   "metadata": {},
   "source": [
    "# TP 3 Regression linéaire\n",
    "Dans ce TP, nous aimerions prédire l'admission d'un étudiant à une specialité donnée selon ses notes dans deux matières.\n",
    "\n",
    "Pour ce faire, nous étudierons un ensemble de données avec l'admission  (y) et les notes des deux modules (X).\n",
    "\n",
    "La prédiction se fera avec l'agorithme de descente du gradient."
   ]
  },
  {
   "cell_type": "markdown",
   "metadata": {},
   "source": [
    "# Importation des librairies necessaires au travail"
   ]
  },
  {
   "cell_type": "code",
   "execution_count": 2,
   "metadata": {},
   "outputs": [],
   "source": [
    "import numpy as np\n",
    "import matplotlib.pyplot as plt\n",
    "import pandas as pd"
   ]
  },
  {
   "cell_type": "code",
   "execution_count": 3,
   "metadata": {},
   "outputs": [],
   "source": [
    "df_students = pd.read_csv('data/students.csv')"
   ]
  },
  {
   "cell_type": "code",
   "execution_count": 4,
   "metadata": {},
   "outputs": [
    {
     "data": {
      "text/html": [
       "<div>\n",
       "<style scoped>\n",
       "    .dataframe tbody tr th:only-of-type {\n",
       "        vertical-align: middle;\n",
       "    }\n",
       "\n",
       "    .dataframe tbody tr th {\n",
       "        vertical-align: top;\n",
       "    }\n",
       "\n",
       "    .dataframe thead th {\n",
       "        text-align: right;\n",
       "    }\n",
       "</style>\n",
       "<table border=\"1\" class=\"dataframe\">\n",
       "  <thead>\n",
       "    <tr style=\"text-align: right;\">\n",
       "      <th></th>\n",
       "      <th>mark1</th>\n",
       "      <th>mark2</th>\n",
       "      <th>admitted</th>\n",
       "    </tr>\n",
       "  </thead>\n",
       "  <tbody>\n",
       "    <tr>\n",
       "      <th>0</th>\n",
       "      <td>6.9247</td>\n",
       "      <td>15.605</td>\n",
       "      <td>0</td>\n",
       "    </tr>\n",
       "    <tr>\n",
       "      <th>1</th>\n",
       "      <td>6.0573</td>\n",
       "      <td>8.779</td>\n",
       "      <td>0</td>\n",
       "    </tr>\n",
       "    <tr>\n",
       "      <th>2</th>\n",
       "      <td>7.1695</td>\n",
       "      <td>14.580</td>\n",
       "      <td>0</td>\n",
       "    </tr>\n",
       "    <tr>\n",
       "      <th>3</th>\n",
       "      <td>12.0370</td>\n",
       "      <td>17.262</td>\n",
       "      <td>1</td>\n",
       "    </tr>\n",
       "    <tr>\n",
       "      <th>4</th>\n",
       "      <td>15.8070</td>\n",
       "      <td>15.069</td>\n",
       "      <td>1</td>\n",
       "    </tr>\n",
       "  </tbody>\n",
       "</table>\n",
       "</div>"
      ],
      "text/plain": [
       "     mark1   mark2  admitted\n",
       "0   6.9247  15.605         0\n",
       "1   6.0573   8.779         0\n",
       "2   7.1695  14.580         0\n",
       "3  12.0370  17.262         1\n",
       "4  15.8070  15.069         1"
      ]
     },
     "execution_count": 4,
     "metadata": {},
     "output_type": "execute_result"
    }
   ],
   "source": [
    "df_students.head()"
   ]
  },
  {
   "cell_type": "code",
   "execution_count": 5,
   "metadata": {},
   "outputs": [],
   "source": [
    "features = ['mark1', 'mark2']\n",
    "target = 'admitted'"
   ]
  },
  {
   "cell_type": "code",
   "execution_count": 6,
   "metadata": {},
   "outputs": [],
   "source": [
    "X = df_students[features].values\n",
    "y = df_students[target].values.astype(np.int32)"
   ]
  },
  {
   "cell_type": "code",
   "execution_count": 7,
   "metadata": {},
   "outputs": [
    {
     "data": {
      "text/plain": [
       "array([[ 6.9247, 15.605 ],\n",
       "       [ 6.0573,  8.779 ],\n",
       "       [ 7.1695, 14.58  ],\n",
       "       [12.037 , 17.262 ],\n",
       "       [15.807 , 15.069 ]])"
      ]
     },
     "execution_count": 7,
     "metadata": {},
     "output_type": "execute_result"
    }
   ],
   "source": [
    "X[:5]"
   ]
  },
  {
   "cell_type": "code",
   "execution_count": 8,
   "metadata": {},
   "outputs": [
    {
     "data": {
      "text/plain": [
       "array([0, 0, 0, 1, 1])"
      ]
     },
     "execution_count": 8,
     "metadata": {},
     "output_type": "execute_result"
    }
   ],
   "source": [
    "y[:5]"
   ]
  },
  {
   "cell_type": "markdown",
   "metadata": {},
   "source": [
    "In this dataset, the features represent the marks obtained by students on two subjects, and the target is the student being admitted to a major."
   ]
  },
  {
   "cell_type": "markdown",
   "metadata": {},
   "source": [
    "Let's reuse the functions we made on the previous notebook."
   ]
  },
  {
   "cell_type": "code",
   "execution_count": 9,
   "metadata": {},
   "outputs": [],
   "source": [
    "def add_theta_0(X):\n",
    "  intercept = np.ones(len(X))\n",
    "  X_stacked = np.vstack((intercept, X.T)).T\n",
    "  return X_stacked"
   ]
  },
  {
   "cell_type": "code",
   "execution_count": 10,
   "metadata": {},
   "outputs": [],
   "source": [
    "def h_theta(X,theta):\n",
    "  \"\"\"\n",
    "  This is the predict(X) function that returns y_hat.\n",
    "  \"\"\"\n",
    "  return np.sum(np.multiply(X,theta), axis=1)"
   ]
  },
  {
   "cell_type": "code",
   "execution_count": 11,
   "metadata": {},
   "outputs": [],
   "source": [
    "def initialize_theta(n_features,is_random=True):\n",
    "  \"\"\"\n",
    "  Returns bias (intercept) and weight for a vector X of n features in the form of a ndarray [theta_0,theta_1,..., theta_n].\n",
    "  theta_0 being the bias, and the others the weights.\n",
    "  n has to be greater or equal to 1.\n",
    "  \n",
    "  Parameters:\n",
    "  n_features: number of features of X. If errors occur, reshape(-1,1) your vector.\n",
    "  is_random: if set to False, will set values of bias and theta to zero.\n",
    "  \"\"\"\n",
    "  if is_random:\n",
    "    return np.random.rand(n_features) \n",
    "  else:\n",
    "    return np.zeros(n_features)"
   ]
  },
  {
   "cell_type": "code",
   "execution_count": 12,
   "metadata": {},
   "outputs": [],
   "source": [
    "def get_cost(X,y,theta):   \n",
    "           \n",
    "    # initialize J (the cost)\n",
    "    J = 0 \n",
    "\n",
    "    # Calculate h = X * theta \n",
    "    h = h_theta(X,theta)\n",
    "    \n",
    "    # Calculate the Cost J\n",
    "    J = mean_squared_error(y,h)\n",
    "    \n",
    "    return J"
   ]
  },
  {
   "cell_type": "markdown",
   "metadata": {},
   "source": [
    "# Descente du Gradient : Préparation des fonctions"
   ]
  },
  {
   "cell_type": "markdown",
   "metadata": {},
   "source": [
    "0- Fonction mpgistique (Sigmoid)"
   ]
  },
  {
   "cell_type": "code",
   "execution_count": 13,
   "metadata": {},
   "outputs": [],
   "source": [
    "def sigmoid(z):\n",
    "    # pour une valeur donnée, cette fonction calculera sa sigmoid\n",
    "    pass\n",
    " "
   ]
  },
  {
   "cell_type": "markdown",
   "metadata": {},
   "source": [
    "2- Fonction de la descente du gradient\n",
    "\n",
    "Cette fonction mettra à jour les paramètres $\\theta_0,\\theta_1$ jusqu'à convergence: atteinte du nombre d'itérations max, ou dérivée assez petite."
   ]
  },
  {
   "cell_type": "code",
   "execution_count": 14,
   "metadata": {},
   "outputs": [],
   "source": [
    "def mean_squared_error(y,h_theta):\n",
    "  loss = h_theta - y\n",
    "  m = len(y) \n",
    "  return 1/(2*m) * np.sum(loss ** 2)"
   ]
  },
  {
   "cell_type": "code",
   "execution_count": 15,
   "metadata": {},
   "outputs": [],
   "source": [
    "import time\n",
    "def gradient_descent(X, y, theta, num_iters=100, alpha=0.0001,verbose=False):\n",
    "  \"\"\"\n",
    "  Parameters:\n",
    "  X : training samples\n",
    "  y : training labels\n",
    "  num_iters : epoches of the algorithm to reach convergence\n",
    "  alpha: step of the partial derivatives\n",
    "  verbose : if set to True, will log the values of the cost and theta values.\n",
    "  \n",
    "  Returns theta updated values, cost_history and theta history.\n",
    "  \"\"\"\n",
    "  start = time.time()\n",
    "  # Number of training examples\n",
    "  m = len(y)\n",
    "                     \n",
    "  # History of costs\n",
    "  result_idx = 0\n",
    "  gd_iterations_df = pd.DataFrame(columns=['iteration','cost']) \n",
    "  J_history = [] \n",
    "  theta_history = []\n",
    "  \n",
    "  for i in range(num_iters):\n",
    "      # Step 1 : Calculate h = X * theta\n",
    "      h = h_theta(X,theta)\n",
    "      \n",
    "      # Step 2 :Calculate the error = (h - y) \n",
    "      error = np.subtract(h, y)\n",
    "      \n",
    "      # Step 3 : Calculate the new theta\n",
    "      theta_new = alpha * 1/m * np.sum(np.multiply(X.T, error), axis=1)\n",
    "      \n",
    "      # Step 4 : Update theta\n",
    "      theta = np.subtract(theta, theta_new)\n",
    "      \n",
    "      # Step 5 : Compute the cost to keep history of it\n",
    "      cost = get_cost(X,y,theta)\n",
    "      \n",
    "      gd_iterations_df.loc[result_idx]=[i,cost]\n",
    "      result_idx += 1\n",
    "      \n",
    "      J_history.append(cost)\n",
    "      theta_history.append(theta.tolist())\n",
    "      \n",
    "      if verbose:\n",
    "          print('{}/{} [>==================]  - loss: {:.2f} - t_0: {:.4f} - t_1: {:.4f}'.format(i+1,num_iters,cost,theta[0],theta[1]))\n",
    "          \n",
    "  print('Time spent: %0.2fs' % (time.time()-start))  \n",
    "  return theta, theta_history, J_history,gd_iterations_df\n",
    "    "
   ]
  },
  {
   "cell_type": "markdown",
   "metadata": {},
   "source": [
    "# Descente du Gradient : Appel des fonctions"
   ]
  },
  {
   "cell_type": "code",
   "execution_count": 16,
   "metadata": {},
   "outputs": [
    {
     "data": {
      "text/plain": [
       "array([[ 1.    ,  6.9247, 15.605 ],\n",
       "       [ 1.    ,  6.0573,  8.779 ],\n",
       "       [ 1.    ,  7.1695, 14.58  ],\n",
       "       [ 1.    , 12.037 , 17.262 ],\n",
       "       [ 1.    , 15.807 , 15.069 ]])"
      ]
     },
     "execution_count": 16,
     "metadata": {},
     "output_type": "execute_result"
    }
   ],
   "source": [
    "X = add_theta_0(X)\n",
    "X[:5]"
   ]
  },
  {
   "cell_type": "markdown",
   "metadata": {},
   "source": [
    "Initialisation de $\\theta_0$ et $\\theta_1$"
   ]
  },
  {
   "cell_type": "code",
   "execution_count": 21,
   "metadata": {},
   "outputs": [
    {
     "data": {
      "text/plain": [
       "array([0., 0., 0.])"
      ]
     },
     "execution_count": 21,
     "metadata": {},
     "output_type": "execute_result"
    }
   ],
   "source": [
    "theta = initialize_theta(X.shape[1],is_random=False)\n",
    "theta"
   ]
  },
  {
   "cell_type": "markdown",
   "metadata": {},
   "source": [
    "Calculer le cout initial"
   ]
  },
  {
   "cell_type": "code",
   "execution_count": 22,
   "metadata": {},
   "outputs": [
    {
     "data": {
      "text/plain": [
       "0.3"
      ]
     },
     "execution_count": 22,
     "metadata": {},
     "output_type": "execute_result"
    }
   ],
   "source": [
    "initial_cost = get_cost(X,y,theta)\n",
    "initial_cost"
   ]
  },
  {
   "cell_type": "markdown",
   "metadata": {},
   "source": [
    "Appel des la fonction de calcul du gradient"
   ]
  },
  {
   "cell_type": "code",
   "execution_count": 23,
   "metadata": {},
   "outputs": [],
   "source": [
    "# paramètres\n",
    "iterations = 1500\n",
    "my_alpha = 0.000001"
   ]
  },
  {
   "cell_type": "code",
   "execution_count": 24,
   "metadata": {},
   "outputs": [
    {
     "name": "stdout",
     "output_type": "stream",
     "text": [
      "Time spent: 1.33s\n"
     ]
    }
   ],
   "source": [
    "# Appel\n",
    "theta, theta_history, J_history,gd_iterations_df = gradient_descent(X, y, theta, num_iters=iterations, alpha=my_alpha)"
   ]
  },
  {
   "cell_type": "code",
   "execution_count": 26,
   "metadata": {},
   "outputs": [
    {
     "data": {
      "text/plain": [
       "array([0.00067699, 0.01039716, 0.01024686])"
      ]
     },
     "execution_count": 26,
     "metadata": {},
     "output_type": "execute_result"
    }
   ],
   "source": [
    "theta"
   ]
  },
  {
   "cell_type": "code",
   "execution_count": 25,
   "metadata": {},
   "outputs": [
    {
     "data": {
      "text/html": [
       "<div>\n",
       "<style scoped>\n",
       "    .dataframe tbody tr th:only-of-type {\n",
       "        vertical-align: middle;\n",
       "    }\n",
       "\n",
       "    .dataframe tbody tr th {\n",
       "        vertical-align: top;\n",
       "    }\n",
       "\n",
       "    .dataframe thead th {\n",
       "        text-align: right;\n",
       "    }\n",
       "</style>\n",
       "<table border=\"1\" class=\"dataframe\">\n",
       "  <thead>\n",
       "    <tr style=\"text-align: right;\">\n",
       "      <th></th>\n",
       "      <th>iteration</th>\n",
       "      <th>cost</th>\n",
       "    </tr>\n",
       "  </thead>\n",
       "  <tbody>\n",
       "    <tr>\n",
       "      <th>0</th>\n",
       "      <td>0.0</td>\n",
       "      <td>0.299841</td>\n",
       "    </tr>\n",
       "    <tr>\n",
       "      <th>1</th>\n",
       "      <td>1.0</td>\n",
       "      <td>0.299681</td>\n",
       "    </tr>\n",
       "    <tr>\n",
       "      <th>2</th>\n",
       "      <td>2.0</td>\n",
       "      <td>0.299522</td>\n",
       "    </tr>\n",
       "    <tr>\n",
       "      <th>3</th>\n",
       "      <td>3.0</td>\n",
       "      <td>0.299363</td>\n",
       "    </tr>\n",
       "    <tr>\n",
       "      <th>4</th>\n",
       "      <td>4.0</td>\n",
       "      <td>0.299204</td>\n",
       "    </tr>\n",
       "    <tr>\n",
       "      <th>...</th>\n",
       "      <td>...</td>\n",
       "      <td>...</td>\n",
       "    </tr>\n",
       "    <tr>\n",
       "      <th>1495</th>\n",
       "      <td>1495.0</td>\n",
       "      <td>0.154374</td>\n",
       "    </tr>\n",
       "    <tr>\n",
       "      <th>1496</th>\n",
       "      <td>1496.0</td>\n",
       "      <td>0.154320</td>\n",
       "    </tr>\n",
       "    <tr>\n",
       "      <th>1497</th>\n",
       "      <td>1497.0</td>\n",
       "      <td>0.154266</td>\n",
       "    </tr>\n",
       "    <tr>\n",
       "      <th>1498</th>\n",
       "      <td>1498.0</td>\n",
       "      <td>0.154213</td>\n",
       "    </tr>\n",
       "    <tr>\n",
       "      <th>1499</th>\n",
       "      <td>1499.0</td>\n",
       "      <td>0.154159</td>\n",
       "    </tr>\n",
       "  </tbody>\n",
       "</table>\n",
       "<p>1500 rows × 2 columns</p>\n",
       "</div>"
      ],
      "text/plain": [
       "      iteration      cost\n",
       "0           0.0  0.299841\n",
       "1           1.0  0.299681\n",
       "2           2.0  0.299522\n",
       "3           3.0  0.299363\n",
       "4           4.0  0.299204\n",
       "...         ...       ...\n",
       "1495     1495.0  0.154374\n",
       "1496     1496.0  0.154320\n",
       "1497     1497.0  0.154266\n",
       "1498     1498.0  0.154213\n",
       "1499     1499.0  0.154159\n",
       "\n",
       "[1500 rows x 2 columns]"
      ]
     },
     "execution_count": 25,
     "metadata": {},
     "output_type": "execute_result"
    }
   ],
   "source": [
    "gd_iterations_df"
   ]
  },
  {
   "cell_type": "markdown",
   "metadata": {},
   "source": [
    "Traçage de la fonction du coût"
   ]
  },
  {
   "cell_type": "markdown",
   "metadata": {},
   "source": [
    "Notons que $\\theta^T  x$ est équivalent à $X  \\theta $ où $X= \\begin{pmatrix}\n",
    "..(x^{(1)})^T..\\\\\n",
    "..(x^{(2)})^T..\\\\\n",
    ".\\\\\n",
    ".\\\\\n",
    ".\\\\\n",
    "..(x^{(m)})^T..\n",
    "\\end{pmatrix} $"
   ]
  },
  {
   "cell_type": "markdown",
   "metadata": {},
   "source": [
    "# Dessin de la limite de decision (Descision Boundary)\n",
    "Dans cette partie, nous aimerions dessiner la ligne separatrice d nos données"
   ]
  },
  {
   "cell_type": "code",
   "execution_count": null,
   "metadata": {},
   "outputs": [],
   "source": [
    "def drawLine():\n",
    "  pass\n",
    "    "
   ]
  },
  {
   "cell_type": "markdown",
   "metadata": {},
   "source": [
    "# Affichage \n",
    "Graphe representant les acceptations selon les caracteristiques"
   ]
  },
  {
   "cell_type": "code",
   "execution_count": 27,
   "metadata": {},
   "outputs": [
    {
     "data": {
      "text/plain": [
       "array([[17.262 , 15.069 , 19.302 ,  9.3108, 17.484 ,  8.7067, 15.296 ,\n",
       "        19.544 , 17.841 , 10.548 , 18.585 ,  9.5152, 13.16  , 13.794 ,\n",
       "        13.991 ,  8.9643, 14.562 , 11.41  , 13.887 , 16.182 , 11.262 ,\n",
       "        13.114 , 14.092 , 17.346 , 19.354 , 17.739 , 14.833 , 12.2   ,\n",
       "         8.6781, 13.772 , 13.965 , 15.691 , 17.152 , 19.507 , 18.423 ,\n",
       "        12.198 , 15.606 , 19.246 , 14.619 , 15.172 , 14.474 , 17.695 ,\n",
       "        15.162 , 13.961 ,  9.1389, 13.318 , 11.903 , 18.192 , 17.119 ,\n",
       "        18.085 , 19.329 , 15.432 , 17.502 , 16.969 ,  9.0717,  9.6761,\n",
       "        17.421 , 13.755 , 12.986 , 17.906 ]])"
      ]
     },
     "execution_count": 27,
     "metadata": {},
     "output_type": "execute_result"
    }
   ],
   "source": [
    "X[np.where(y==1),2]"
   ]
  },
  {
   "cell_type": "code",
   "execution_count": 29,
   "metadata": {},
   "outputs": [
    {
     "data": {
      "text/plain": [
       "<matplotlib.legend.Legend at 0x1a8df594e50>"
      ]
     },
     "execution_count": 29,
     "metadata": {},
     "output_type": "execute_result"
    },
    {
     "data": {
      "image/png": "[encoded data removed]",
      "image/svg+xml": "<?xml version=\"1.0\" encoding=\"utf-8\" standalone=\"no\"?>\r\n<!DOCTYPE svg PUBLIC \"-//W3C//DTD SVG 1.1//EN\"\r\n  \"http://www.w3.org/Graphics/SVG/1.1/DTD/svg11.dtd\">\r\n<!-- Created with matplotlib (https://matplotlib.org/) -->\r\n<svg height=\"262.19625pt\" version=\"1.1\" viewBox=\"0 0 382.603125 262.19625\" width=\"382.603125pt\" xmlns=\"http://www.w3.org/2000/svg\" xmlns:xlink=\"http://www.w3.org/1999/xlink\">\r\n <metadata>\r\n  <rdf:RDF xmlns:cc=\"http://creativecommons.org/ns#\" xmlns:dc=\"http://purl.org/dc/elements/1.1/\" xmlns:rdf=\"http://www.w3.org/1999/02/22-rdf-syntax-ns#\">\r\n   <cc:Work>\r\n    <dc:type rdf:resource=\"http://purl.org/dc/dcmitype/StillImage\"/>\r\n    <dc:date>2022-03-17T03:49:26.328514</dc:date>\r\n    <dc:format>image/svg+xml</dc:format>\r\n    <dc:creator>\r\n     <cc:Agent>\r\n      <dc:title>Matplotlib v3.3.4, https://matplotlib.org/</dc:title>\r\n     </cc:Agent>\r\n    </dc:creator>\r\n   </cc:Work>\r\n  </rdf:RDF>\r\n </metadata>\r\n <defs>\r\n  <style type=\"text/css\">*{stroke-linecap:butt;stroke-linejoin:round;}</style>\r\n </defs>\r\n <g id=\"figure_1\">\r\n  <g id=\"patch_1\">\r\n   <path d=\"M 0 262.19625 \r\nL 382.603125 262.19625 \r\nL 382.603125 0 \r\nL 0 0 \r\nz\r\n\" style=\"fill:none;\"/>\r\n  </g>\r\n  <g id=\"axes_1\">\r\n   <g id=\"patch_2\">\r\n    <path d=\"M 40.603125 224.64 \r\nL 375.403125 224.64 \r\nL 375.403125 7.2 \r\nL 40.603125 7.2 \r\nz\r\n\" style=\"fill:#ffffff;\"/>\r\n   </g>\r\n   <g id=\"PathCollection_1\">\r\n    <defs>\r\n     <path d=\"M 0 3 \r\nC 0.795609 3 1.55874 2.683901 2.12132 2.12132 \r\nC 2.683901 1.55874 3 0.795609 3 0 \r\nC 3 -0.795609 2.683901 -1.55874 2.12132 -2.12132 \r\nC 1.55874 -2.683901 0.795609 -3 0 -3 \r\nC -0.795609 -3 -1.55874 -2.683901 -2.12132 -2.12132 \r\nC -2.683901 -1.55874 -3 -0.795609 -3 0 \r\nC -3 0.795609 -2.683901 1.55874 -2.12132 2.12132 \r\nC -1.55874 2.683901 -0.795609 3 0 3 \r\nz\r\n\" id=\"m4cdfa683db\" style=\"stroke:#1f77b4;\"/>\r\n    </defs>\r\n    <g clip-path=\"url(#p891205e60c)\">\r\n     <use style=\"fill:#1f77b4;stroke:#1f77b4;\" x=\"187.240649\" xlink:href=\"#m4cdfa683db\" y=\"53.452418\"/>\r\n     <use style=\"fill:#1f77b4;stroke:#1f77b4;\" x=\"269.470437\" xlink:href=\"#m4cdfa683db\" y=\"85.202712\"/>\r\n     <use style=\"fill:#1f77b4;stroke:#1f77b4;\" x=\"191.253986\" xlink:href=\"#m4cdfa683db\" y=\"23.917261\"/>\r\n     <use style=\"fill:#1f77b4;stroke:#1f77b4;\" x=\"251.977522\" xlink:href=\"#m4cdfa683db\" y=\"168.570037\"/>\r\n     <use style=\"fill:#1f77b4;stroke:#1f77b4;\" x=\"256.667019\" xlink:href=\"#m4cdfa683db\" y=\"50.238298\"/>\r\n     <use style=\"fill:#1f77b4;stroke:#1f77b4;\" x=\"293.026981\" xlink:href=\"#m4cdfa683db\" y=\"177.316208\"/>\r\n     <use style=\"fill:#1f77b4;stroke:#1f77b4;\" x=\"283.735233\" xlink:href=\"#m4cdfa683db\" y=\"81.916202\"/>\r\n     <use style=\"fill:#1f77b4;stroke:#1f77b4;\" x=\"227.286774\" xlink:href=\"#m4cdfa683db\" y=\"20.413581\"/>\r\n     <use style=\"fill:#1f77b4;stroke:#1f77b4;\" x=\"160.128811\" xlink:href=\"#m4cdfa683db\" y=\"45.069646\"/>\r\n     <use style=\"fill:#1f77b4;stroke:#1f77b4;\" x=\"225.999888\" xlink:href=\"#m4cdfa683db\" y=\"150.657833\"/>\r\n     <use style=\"fill:#1f77b4;stroke:#1f77b4;\" x=\"232.935982\" xlink:href=\"#m4cdfa683db\" y=\"34.298\"/>\r\n     <use style=\"fill:#1f77b4;stroke:#1f77b4;\" x=\"260.505863\" xlink:href=\"#m4cdfa683db\" y=\"165.610731\"/>\r\n     <use style=\"fill:#1f77b4;stroke:#1f77b4;\" x=\"315.885553\" xlink:href=\"#m4cdfa683db\" y=\"112.841249\"/>\r\n     <use style=\"fill:#1f77b4;stroke:#1f77b4;\" x=\"264.628258\" xlink:href=\"#m4cdfa683db\" y=\"103.662186\"/>\r\n     <use style=\"fill:#1f77b4;stroke:#1f77b4;\" x=\"196.336092\" xlink:href=\"#m4cdfa683db\" y=\"100.810016\"/>\r\n     <use style=\"fill:#1f77b4;stroke:#1f77b4;\" x=\"274.50892\" xlink:href=\"#m4cdfa683db\" y=\"173.586671\"/>\r\n     <use style=\"fill:#1f77b4;stroke:#1f77b4;\" x=\"192.453625\" xlink:href=\"#m4cdfa683db\" y=\"92.543068\"/>\r\n     <use style=\"fill:#1f77b4;stroke:#1f77b4;\" x=\"297.258434\" xlink:href=\"#m4cdfa683db\" y=\"138.177781\"/>\r\n     <use style=\"fill:#1f77b4;stroke:#1f77b4;\" x=\"151.73134\" xlink:href=\"#m4cdfa683db\" y=\"102.31573\"/>\r\n     <use style=\"fill:#1f77b4;stroke:#1f77b4;\" x=\"204.646317\" xlink:href=\"#m4cdfa683db\" y=\"69.088678\"/>\r\n     <use style=\"fill:#1f77b4;stroke:#1f77b4;\" x=\"290.693138\" xlink:href=\"#m4cdfa683db\" y=\"140.320528\"/>\r\n     <use style=\"fill:#1f77b4;stroke:#1f77b4;\" x=\"336.693834\" xlink:href=\"#m4cdfa683db\" y=\"113.507238\"/>\r\n     <use style=\"fill:#1f77b4;stroke:#1f77b4;\" x=\"261.443763\" xlink:href=\"#m4cdfa683db\" y=\"99.347736\"/>\r\n     <use style=\"fill:#1f77b4;stroke:#1f77b4;\" x=\"351.198558\" xlink:href=\"#m4cdfa683db\" y=\"52.236265\"/>\r\n     <use style=\"fill:#1f77b4;stroke:#1f77b4;\" x=\"195.485439\" xlink:href=\"#m4cdfa683db\" y=\"23.164404\"/>\r\n     <use style=\"fill:#1f77b4;stroke:#1f77b4;\" x=\"324.130344\" xlink:href=\"#m4cdfa683db\" y=\"46.546404\"/>\r\n     <use style=\"fill:#1f77b4;stroke:#1f77b4;\" x=\"273.440151\" xlink:href=\"#m4cdfa683db\" y=\"88.619525\"/>\r\n     <use style=\"fill:#1f77b4;stroke:#1f77b4;\" x=\"357.763854\" xlink:href=\"#m4cdfa683db\" y=\"126.740147\"/>\r\n     <use style=\"fill:#1f77b4;stroke:#1f77b4;\" x=\"319.680774\" xlink:href=\"#m4cdfa683db\" y=\"177.73028\"/>\r\n     <use style=\"fill:#1f77b4;stroke:#1f77b4;\" x=\"350.653267\" xlink:href=\"#m4cdfa683db\" y=\"103.980702\"/>\r\n     <use style=\"fill:#1f77b4;stroke:#1f77b4;\" x=\"248.596721\" xlink:href=\"#m4cdfa683db\" y=\"101.186445\"/>\r\n     <use style=\"fill:#1f77b4;stroke:#1f77b4;\" x=\"237.887219\" xlink:href=\"#m4cdfa683db\" y=\"76.197385\"/>\r\n     <use style=\"fill:#1f77b4;stroke:#1f77b4;\" x=\"253.591581\" xlink:href=\"#m4cdfa683db\" y=\"55.045\"/>\r\n     <use style=\"fill:#1f77b4;stroke:#1f77b4;\" x=\"101.182922\" xlink:href=\"#m4cdfa683db\" y=\"20.949267\"/>\r\n     <use style=\"fill:#1f77b4;stroke:#1f77b4;\" x=\"274.901529\" xlink:href=\"#m4cdfa683db\" y=\"36.643439\"/>\r\n     <use style=\"fill:#1f77b4;stroke:#1f77b4;\" x=\"215.857488\" xlink:href=\"#m4cdfa683db\" y=\"126.769103\"/>\r\n     <use style=\"fill:#1f77b4;stroke:#1f77b4;\" x=\"204.057404\" xlink:href=\"#m4cdfa683db\" y=\"77.428017\"/>\r\n     <use style=\"fill:#1f77b4;stroke:#1f77b4;\" x=\"240.286496\" xlink:href=\"#m4cdfa683db\" y=\"24.72803\"/>\r\n     <use style=\"fill:#1f77b4;stroke:#1f77b4;\" x=\"188.440288\" xlink:href=\"#m4cdfa683db\" y=\"91.717821\"/>\r\n     <use style=\"fill:#1f77b4;stroke:#1f77b4;\" x=\"181.373324\" xlink:href=\"#m4cdfa683db\" y=\"83.711477\"/>\r\n     <use style=\"fill:#1f77b4;stroke:#1f77b4;\" x=\"360.184943\" xlink:href=\"#m4cdfa683db\" y=\"93.817133\"/>\r\n     <use style=\"fill:#1f77b4;stroke:#1f77b4;\" x=\"130.877255\" xlink:href=\"#m4cdfa683db\" y=\"47.183436\"/>\r\n     <use style=\"fill:#1f77b4;stroke:#1f77b4;\" x=\"144.817058\" xlink:href=\"#m4cdfa683db\" y=\"83.856257\"/>\r\n     <use style=\"fill:#1f77b4;stroke:#1f77b4;\" x=\"312.570188\" xlink:href=\"#m4cdfa683db\" y=\"101.244357\"/>\r\n     <use style=\"fill:#1f77b4;stroke:#1f77b4;\" x=\"338.39514\" xlink:href=\"#m4cdfa683db\" y=\"171.058809\"/>\r\n     <use style=\"fill:#1f77b4;stroke:#1f77b4;\" x=\"218.365823\" xlink:href=\"#m4cdfa683db\" y=\"110.553723\"/>\r\n     <use style=\"fill:#1f77b4;stroke:#1f77b4;\" x=\"174.393608\" xlink:href=\"#m4cdfa683db\" y=\"131.040118\"/>\r\n     <use style=\"fill:#1f77b4;stroke:#1f77b4;\" x=\"275.272326\" xlink:href=\"#m4cdfa683db\" y=\"39.987861\"/>\r\n     <use style=\"fill:#1f77b4;stroke:#1f77b4;\" x=\"223.382495\" xlink:href=\"#m4cdfa683db\" y=\"55.522775\"/>\r\n     <use style=\"fill:#1f77b4;stroke:#1f77b4;\" x=\"253.962379\" xlink:href=\"#m4cdfa683db\" y=\"41.537009\"/>\r\n     <use style=\"fill:#1f77b4;stroke:#1f77b4;\" x=\"267.725508\" xlink:href=\"#m4cdfa683db\" y=\"23.526355\"/>\r\n     <use style=\"fill:#1f77b4;stroke:#1f77b4;\" x=\"335.167021\" xlink:href=\"#m4cdfa683db\" y=\"79.947192\"/>\r\n     <use style=\"fill:#1f77b4;stroke:#1f77b4;\" x=\"319.266354\" xlink:href=\"#m4cdfa683db\" y=\"49.977694\"/>\r\n     <use style=\"fill:#1f77b4;stroke:#1f77b4;\" x=\"249.665491\" xlink:href=\"#m4cdfa683db\" y=\"57.694478\"/>\r\n     <use style=\"fill:#1f77b4;stroke:#1f77b4;\" x=\"316.627148\" xlink:href=\"#m4cdfa683db\" y=\"172.031732\"/>\r\n     <use style=\"fill:#1f77b4;stroke:#1f77b4;\" x=\"288.904586\" xlink:href=\"#m4cdfa683db\" y=\"163.281217\"/>\r\n     <use style=\"fill:#1f77b4;stroke:#1f77b4;\" x=\"109.052553\" xlink:href=\"#m4cdfa683db\" y=\"51.150413\"/>\r\n     <use style=\"fill:#1f77b4;stroke:#1f77b4;\" x=\"357.938347\" xlink:href=\"#m4cdfa683db\" y=\"104.226829\"/>\r\n     <use style=\"fill:#1f77b4;stroke:#1f77b4;\" x=\"166.105194\" xlink:href=\"#m4cdfa683db\" y=\"115.360425\"/>\r\n     <use style=\"fill:#1f77b4;stroke:#1f77b4;\" x=\"250.886941\" xlink:href=\"#m4cdfa683db\" y=\"44.128575\"/>\r\n    </g>\r\n   </g>\r\n   <g id=\"PathCollection_2\">\r\n    <defs>\r\n     <path d=\"M -3 3 \r\nL 3 -3 \r\nM -3 -3 \r\nL 3 3 \r\n\" id=\"m7d802a12ee\" style=\"stroke:#ff7f0e;stroke-width:1.5;\"/>\r\n    </defs>\r\n    <g clip-path=\"url(#p891205e60c)\">\r\n     <use style=\"fill:#ff7f0e;stroke:#ff7f0e;stroke-width:1.5;\" x=\"75.73313\" xlink:href=\"#m7d802a12ee\" y=\"77.442495\"/>\r\n     <use style=\"fill:#ff7f0e;stroke:#ff7f0e;stroke-width:1.5;\" x=\"56.813735\" xlink:href=\"#m7d802a12ee\" y=\"176.269448\"/>\r\n     <use style=\"fill:#ff7f0e;stroke:#ff7f0e;stroke-width:1.5;\" x=\"81.072613\" xlink:href=\"#m7d802a12ee\" y=\"92.282463\"/>\r\n     <use style=\"fill:#ff7f0e;stroke:#ff7f0e;stroke-width:1.5;\" x=\"121.363028\" xlink:href=\"#m7d802a12ee\" y=\"140.30605\"/>\r\n     <use style=\"fill:#ff7f0e;stroke:#ff7f0e;stroke-width:1.5;\" x=\"342.866521\" xlink:href=\"#m7d802a12ee\" y=\"192.686073\"/>\r\n     <use style=\"fill:#ff7f0e;stroke:#ff7f0e;stroke-width:1.5;\" x=\"251.933899\" xlink:href=\"#m7d802a12ee\" y=\"214.756364\"/>\r\n     <use style=\"fill:#ff7f0e;stroke:#ff7f0e;stroke-width:1.5;\" x=\"97.173947\" xlink:href=\"#m7d802a12ee\" y=\"83.204746\"/>\r\n     <use style=\"fill:#ff7f0e;stroke:#ff7f0e;stroke-width:1.5;\" x=\"221.092275\" xlink:href=\"#m7d802a12ee\" y=\"168.209535\"/>\r\n     <use style=\"fill:#ff7f0e;stroke:#ff7f0e;stroke-width:1.5;\" x=\"218.583939\" xlink:href=\"#m7d802a12ee\" y=\"179.328653\"/>\r\n     <use style=\"fill:#ff7f0e;stroke:#ff7f0e;stroke-width:1.5;\" x=\"145.144232\" xlink:href=\"#m7d802a12ee\" y=\"161.904358\"/>\r\n     <use style=\"fill:#ff7f0e;stroke:#ff7f0e;stroke-width:1.5;\" x=\"73.938034\" xlink:href=\"#m7d802a12ee\" y=\"175.35878\"/>\r\n     <use style=\"fill:#ff7f0e;stroke:#ff7f0e;stroke-width:1.5;\" x=\"330.891944\" xlink:href=\"#m7d802a12ee\" y=\"191.0211\"/>\r\n     <use style=\"fill:#ff7f0e;stroke:#ff7f0e;stroke-width:1.5;\" x=\"194.41667\" xlink:href=\"#m7d802a12ee\" y=\"157.853408\"/>\r\n     <use style=\"fill:#ff7f0e;stroke:#ff7f0e;stroke-width:1.5;\" x=\"93.891299\" xlink:href=\"#m7d802a12ee\" y=\"115.17221\"/>\r\n     <use style=\"fill:#ff7f0e;stroke:#ff7f0e;stroke-width:1.5;\" x=\"152.014891\" xlink:href=\"#m7d802a12ee\" y=\"120.572511\"/>\r\n     <use style=\"fill:#ff7f0e;stroke:#ff7f0e;stroke-width:1.5;\" x=\"100.22103\" xlink:href=\"#m7d802a12ee\" y=\"97.291858\"/>\r\n     <use style=\"fill:#ff7f0e;stroke:#ff7f0e;stroke-width:1.5;\" x=\"163.029756\" xlink:href=\"#m7d802a12ee\" y=\"152.178025\"/>\r\n     <use style=\"fill:#ff7f0e;stroke:#ff7f0e;stroke-width:1.5;\" x=\"72.644605\" xlink:href=\"#m7d802a12ee\" y=\"17.083636\"/>\r\n     <use style=\"fill:#ff7f0e;stroke:#ff7f0e;stroke-width:1.5;\" x=\"250.952376\" xlink:href=\"#m7d802a12ee\" y=\"182.991591\"/>\r\n     <use style=\"fill:#ff7f0e;stroke:#ff7f0e;stroke-width:1.5;\" x=\"73.813708\" xlink:href=\"#m7d802a12ee\" y=\"85.506751\"/>\r\n     <use style=\"fill:#ff7f0e;stroke:#ff7f0e;stroke-width:1.5;\" x=\"149.57199\" xlink:href=\"#m7d802a12ee\" y=\"167.694117\"/>\r\n     <use style=\"fill:#ff7f0e;stroke:#ff7f0e;stroke-width:1.5;\" x=\"284.018784\" xlink:href=\"#m7d802a12ee\" y=\"185.756893\"/>\r\n     <use style=\"fill:#ff7f0e;stroke:#ff7f0e;stroke-width:1.5;\" x=\"147.390828\" xlink:href=\"#m7d802a12ee\" y=\"170.688172\"/>\r\n     <use style=\"fill:#ff7f0e;stroke:#ff7f0e;stroke-width:1.5;\" x=\"196.139788\" xlink:href=\"#m7d802a12ee\" y=\"152.626844\"/>\r\n     <use style=\"fill:#ff7f0e;stroke:#ff7f0e;stroke-width:1.5;\" x=\"75.30126\" xlink:href=\"#m7d802a12ee\" y=\"128.491987\"/>\r\n     <use style=\"fill:#ff7f0e;stroke:#ff7f0e;stroke-width:1.5;\" x=\"144.053651\" xlink:href=\"#m7d802a12ee\" y=\"159.157878\"/>\r\n     <use style=\"fill:#ff7f0e;stroke:#ff7f0e;stroke-width:1.5;\" x=\"141.006569\" xlink:href=\"#m7d802a12ee\" y=\"130.185915\"/>\r\n     <use style=\"fill:#ff7f0e;stroke:#ff7f0e;stroke-width:1.5;\" x=\"66.805636\" xlink:href=\"#m7d802a12ee\" y=\"26.55226\"/>\r\n     <use style=\"fill:#ff7f0e;stroke:#ff7f0e;stroke-width:1.5;\" x=\"78.623169\" xlink:href=\"#m7d802a12ee\" y=\"167.219238\"/>\r\n     <use style=\"fill:#ff7f0e;stroke:#ff7f0e;stroke-width:1.5;\" x=\"170.096719\" xlink:href=\"#m7d802a12ee\" y=\"189.686227\"/>\r\n     <use style=\"fill:#ff7f0e;stroke:#ff7f0e;stroke-width:1.5;\" x=\"55.821307\" xlink:href=\"#m7d802a12ee\" y=\"159.770298\"/>\r\n     <use style=\"fill:#ff7f0e;stroke:#ff7f0e;stroke-width:1.5;\" x=\"119.552664\" xlink:href=\"#m7d802a12ee\" y=\"110.959107\"/>\r\n     <use style=\"fill:#ff7f0e;stroke:#ff7f0e;stroke-width:1.5;\" x=\"215.050458\" xlink:href=\"#m7d802a12ee\" y=\"184.385825\"/>\r\n     <use style=\"fill:#ff7f0e;stroke:#ff7f0e;stroke-width:1.5;\" x=\"138.764335\" xlink:href=\"#m7d802a12ee\" y=\"153.133574\"/>\r\n     <use style=\"fill:#ff7f0e;stroke:#ff7f0e;stroke-width:1.5;\" x=\"67.442535\" xlink:href=\"#m7d802a12ee\" y=\"177.972063\"/>\r\n     <use style=\"fill:#ff7f0e;stroke:#ff7f0e;stroke-width:1.5;\" x=\"188.418476\" xlink:href=\"#m7d802a12ee\" y=\"180.284202\"/>\r\n     <use style=\"fill:#ff7f0e;stroke:#ff7f0e;stroke-width:1.5;\" x=\"283.386247\" xlink:href=\"#m7d802a12ee\" y=\"179.671782\"/>\r\n     <use style=\"fill:#ff7f0e;stroke:#ff7f0e;stroke-width:1.5;\" x=\"108.241161\" xlink:href=\"#m7d802a12ee\" y=\"75.0681\"/>\r\n     <use style=\"fill:#ff7f0e;stroke:#ff7f0e;stroke-width:1.5;\" x=\"153.061848\" xlink:href=\"#m7d802a12ee\" y=\"127.406136\"/>\r\n     <use style=\"fill:#ff7f0e;stroke:#ff7f0e;stroke-width:1.5;\" x=\"166.715919\" xlink:href=\"#m7d802a12ee\" y=\"200.3739\"/>\r\n    </g>\r\n   </g>\r\n   <g id=\"matplotlib.axis_1\">\r\n    <g id=\"xtick_1\">\r\n     <g id=\"line2d_1\">\r\n      <defs>\r\n       <path d=\"M 0 0 \r\nL 0 3.5 \r\n\" id=\"m80a0536216\" style=\"stroke:#000000;stroke-width:0.8;\"/>\r\n      </defs>\r\n      <g>\r\n       <use style=\"stroke:#000000;stroke-width:0.8;\" x=\"55.56393\" xlink:href=\"#m80a0536216\" y=\"224.64\"/>\r\n      </g>\r\n     </g>\r\n     <g id=\"text_1\">\r\n      <!-- 6 -->\r\n      <g transform=\"translate(52.38268 239.238437)scale(0.1 -0.1)\">\r\n       <defs>\r\n        <path d=\"M 33.015625 40.375 \r\nQ 26.375 40.375 22.484375 35.828125 \r\nQ 18.609375 31.296875 18.609375 23.390625 \r\nQ 18.609375 15.53125 22.484375 10.953125 \r\nQ 26.375 6.390625 33.015625 6.390625 \r\nQ 39.65625 6.390625 43.53125 10.953125 \r\nQ 47.40625 15.53125 47.40625 23.390625 \r\nQ 47.40625 31.296875 43.53125 35.828125 \r\nQ 39.65625 40.375 33.015625 40.375 \r\nz\r\nM 52.59375 71.296875 \r\nL 52.59375 62.3125 \r\nQ 48.875 64.0625 45.09375 64.984375 \r\nQ 41.3125 65.921875 37.59375 65.921875 \r\nQ 27.828125 65.921875 22.671875 59.328125 \r\nQ 17.53125 52.734375 16.796875 39.40625 \r\nQ 19.671875 43.65625 24.015625 45.921875 \r\nQ 28.375 48.1875 33.59375 48.1875 \r\nQ 44.578125 48.1875 50.953125 41.515625 \r\nQ 57.328125 34.859375 57.328125 23.390625 \r\nQ 57.328125 12.15625 50.6875 5.359375 \r\nQ 44.046875 -1.421875 33.015625 -1.421875 \r\nQ 20.359375 -1.421875 13.671875 8.265625 \r\nQ 6.984375 17.96875 6.984375 36.375 \r\nQ 6.984375 53.65625 15.1875 63.9375 \r\nQ 23.390625 74.21875 37.203125 74.21875 \r\nQ 40.921875 74.21875 44.703125 73.484375 \r\nQ 48.484375 72.75 52.59375 71.296875 \r\nz\r\n\" id=\"DejaVuSans-54\"/>\r\n       </defs>\r\n       <use xlink:href=\"#DejaVuSans-54\"/>\r\n      </g>\r\n     </g>\r\n    </g>\r\n    <g id=\"xtick_2\">\r\n     <g id=\"line2d_2\">\r\n      <g>\r\n       <use style=\"stroke:#000000;stroke-width:0.8;\" x=\"99.18716\" xlink:href=\"#m80a0536216\" y=\"224.64\"/>\r\n      </g>\r\n     </g>\r\n     <g id=\"text_2\">\r\n      <!-- 8 -->\r\n      <g transform=\"translate(96.00591 239.238437)scale(0.1 -0.1)\">\r\n       <defs>\r\n        <path d=\"M 31.78125 34.625 \r\nQ 24.75 34.625 20.71875 30.859375 \r\nQ 16.703125 27.09375 16.703125 20.515625 \r\nQ 16.703125 13.921875 20.71875 10.15625 \r\nQ 24.75 6.390625 31.78125 6.390625 \r\nQ 38.8125 6.390625 42.859375 10.171875 \r\nQ 46.921875 13.96875 46.921875 20.515625 \r\nQ 46.921875 27.09375 42.890625 30.859375 \r\nQ 38.875 34.625 31.78125 34.625 \r\nz\r\nM 21.921875 38.8125 \r\nQ 15.578125 40.375 12.03125 44.71875 \r\nQ 8.5 49.078125 8.5 55.328125 \r\nQ 8.5 64.0625 14.71875 69.140625 \r\nQ 20.953125 74.21875 31.78125 74.21875 \r\nQ 42.671875 74.21875 48.875 69.140625 \r\nQ 55.078125 64.0625 55.078125 55.328125 \r\nQ 55.078125 49.078125 51.53125 44.71875 \r\nQ 48 40.375 41.703125 38.8125 \r\nQ 48.828125 37.15625 52.796875 32.3125 \r\nQ 56.78125 27.484375 56.78125 20.515625 \r\nQ 56.78125 9.90625 50.3125 4.234375 \r\nQ 43.84375 -1.421875 31.78125 -1.421875 \r\nQ 19.734375 -1.421875 13.25 4.234375 \r\nQ 6.78125 9.90625 6.78125 20.515625 \r\nQ 6.78125 27.484375 10.78125 32.3125 \r\nQ 14.796875 37.15625 21.921875 38.8125 \r\nz\r\nM 18.3125 54.390625 \r\nQ 18.3125 48.734375 21.84375 45.5625 \r\nQ 25.390625 42.390625 31.78125 42.390625 \r\nQ 38.140625 42.390625 41.71875 45.5625 \r\nQ 45.3125 48.734375 45.3125 54.390625 \r\nQ 45.3125 60.0625 41.71875 63.234375 \r\nQ 38.140625 66.40625 31.78125 66.40625 \r\nQ 25.390625 66.40625 21.84375 63.234375 \r\nQ 18.3125 60.0625 18.3125 54.390625 \r\nz\r\n\" id=\"DejaVuSans-56\"/>\r\n       </defs>\r\n       <use xlink:href=\"#DejaVuSans-56\"/>\r\n      </g>\r\n     </g>\r\n    </g>\r\n    <g id=\"xtick_3\">\r\n     <g id=\"line2d_3\">\r\n      <g>\r\n       <use style=\"stroke:#000000;stroke-width:0.8;\" x=\"142.810389\" xlink:href=\"#m80a0536216\" y=\"224.64\"/>\r\n      </g>\r\n     </g>\r\n     <g id=\"text_3\">\r\n      <!-- 10 -->\r\n      <g transform=\"translate(136.447889 239.238437)scale(0.1 -0.1)\">\r\n       <defs>\r\n        <path d=\"M 12.40625 8.296875 \r\nL 28.515625 8.296875 \r\nL 28.515625 63.921875 \r\nL 10.984375 60.40625 \r\nL 10.984375 69.390625 \r\nL 28.421875 72.90625 \r\nL 38.28125 72.90625 \r\nL 38.28125 8.296875 \r\nL 54.390625 8.296875 \r\nL 54.390625 0 \r\nL 12.40625 0 \r\nz\r\n\" id=\"DejaVuSans-49\"/>\r\n        <path d=\"M 31.78125 66.40625 \r\nQ 24.171875 66.40625 20.328125 58.90625 \r\nQ 16.5 51.421875 16.5 36.375 \r\nQ 16.5 21.390625 20.328125 13.890625 \r\nQ 24.171875 6.390625 31.78125 6.390625 \r\nQ 39.453125 6.390625 43.28125 13.890625 \r\nQ 47.125 21.390625 47.125 36.375 \r\nQ 47.125 51.421875 43.28125 58.90625 \r\nQ 39.453125 66.40625 31.78125 66.40625 \r\nz\r\nM 31.78125 74.21875 \r\nQ 44.046875 74.21875 50.515625 64.515625 \r\nQ 56.984375 54.828125 56.984375 36.375 \r\nQ 56.984375 17.96875 50.515625 8.265625 \r\nQ 44.046875 -1.421875 31.78125 -1.421875 \r\nQ 19.53125 -1.421875 13.0625 8.265625 \r\nQ 6.59375 17.96875 6.59375 36.375 \r\nQ 6.59375 54.828125 13.0625 64.515625 \r\nQ 19.53125 74.21875 31.78125 74.21875 \r\nz\r\n\" id=\"DejaVuSans-48\"/>\r\n       </defs>\r\n       <use xlink:href=\"#DejaVuSans-49\"/>\r\n       <use x=\"63.623047\" xlink:href=\"#DejaVuSans-48\"/>\r\n      </g>\r\n     </g>\r\n    </g>\r\n    <g id=\"xtick_4\">\r\n     <g id=\"line2d_4\">\r\n      <g>\r\n       <use style=\"stroke:#000000;stroke-width:0.8;\" x=\"186.433619\" xlink:href=\"#m80a0536216\" y=\"224.64\"/>\r\n      </g>\r\n     </g>\r\n     <g id=\"text_4\">\r\n      <!-- 12 -->\r\n      <g transform=\"translate(180.071119 239.238437)scale(0.1 -0.1)\">\r\n       <defs>\r\n        <path d=\"M 19.1875 8.296875 \r\nL 53.609375 8.296875 \r\nL 53.609375 0 \r\nL 7.328125 0 \r\nL 7.328125 8.296875 \r\nQ 12.9375 14.109375 22.625 23.890625 \r\nQ 32.328125 33.6875 34.8125 36.53125 \r\nQ 39.546875 41.84375 41.421875 45.53125 \r\nQ 43.3125 49.21875 43.3125 52.78125 \r\nQ 43.3125 58.59375 39.234375 62.25 \r\nQ 35.15625 65.921875 28.609375 65.921875 \r\nQ 23.96875 65.921875 18.8125 64.3125 \r\nQ 13.671875 62.703125 7.8125 59.421875 \r\nL 7.8125 69.390625 \r\nQ 13.765625 71.78125 18.9375 73 \r\nQ 24.125 74.21875 28.421875 74.21875 \r\nQ 39.75 74.21875 46.484375 68.546875 \r\nQ 53.21875 62.890625 53.21875 53.421875 \r\nQ 53.21875 48.921875 51.53125 44.890625 \r\nQ 49.859375 40.875 45.40625 35.40625 \r\nQ 44.1875 33.984375 37.640625 27.21875 \r\nQ 31.109375 20.453125 19.1875 8.296875 \r\nz\r\n\" id=\"DejaVuSans-50\"/>\r\n       </defs>\r\n       <use xlink:href=\"#DejaVuSans-49\"/>\r\n       <use x=\"63.623047\" xlink:href=\"#DejaVuSans-50\"/>\r\n      </g>\r\n     </g>\r\n    </g>\r\n    <g id=\"xtick_5\">\r\n     <g id=\"line2d_5\">\r\n      <g>\r\n       <use style=\"stroke:#000000;stroke-width:0.8;\" x=\"230.056849\" xlink:href=\"#m80a0536216\" y=\"224.64\"/>\r\n      </g>\r\n     </g>\r\n     <g id=\"text_5\">\r\n      <!-- 14 -->\r\n      <g transform=\"translate(223.694349 239.238437)scale(0.1 -0.1)\">\r\n       <defs>\r\n        <path d=\"M 37.796875 64.3125 \r\nL 12.890625 25.390625 \r\nL 37.796875 25.390625 \r\nz\r\nM 35.203125 72.90625 \r\nL 47.609375 72.90625 \r\nL 47.609375 25.390625 \r\nL 58.015625 25.390625 \r\nL 58.015625 17.1875 \r\nL 47.609375 17.1875 \r\nL 47.609375 0 \r\nL 37.796875 0 \r\nL 37.796875 17.1875 \r\nL 4.890625 17.1875 \r\nL 4.890625 26.703125 \r\nz\r\n\" id=\"DejaVuSans-52\"/>\r\n       </defs>\r\n       <use xlink:href=\"#DejaVuSans-49\"/>\r\n       <use x=\"63.623047\" xlink:href=\"#DejaVuSans-52\"/>\r\n      </g>\r\n     </g>\r\n    </g>\r\n    <g id=\"xtick_6\">\r\n     <g id=\"line2d_6\">\r\n      <g>\r\n       <use style=\"stroke:#000000;stroke-width:0.8;\" x=\"273.680079\" xlink:href=\"#m80a0536216\" y=\"224.64\"/>\r\n      </g>\r\n     </g>\r\n     <g id=\"text_6\">\r\n      <!-- 16 -->\r\n      <g transform=\"translate(267.317579 239.238437)scale(0.1 -0.1)\">\r\n       <use xlink:href=\"#DejaVuSans-49\"/>\r\n       <use x=\"63.623047\" xlink:href=\"#DejaVuSans-54\"/>\r\n      </g>\r\n     </g>\r\n    </g>\r\n    <g id=\"xtick_7\">\r\n     <g id=\"line2d_7\">\r\n      <g>\r\n       <use style=\"stroke:#000000;stroke-width:0.8;\" x=\"317.303308\" xlink:href=\"#m80a0536216\" y=\"224.64\"/>\r\n      </g>\r\n     </g>\r\n     <g id=\"text_7\">\r\n      <!-- 18 -->\r\n      <g transform=\"translate(310.940808 239.238437)scale(0.1 -0.1)\">\r\n       <use xlink:href=\"#DejaVuSans-49\"/>\r\n       <use x=\"63.623047\" xlink:href=\"#DejaVuSans-56\"/>\r\n      </g>\r\n     </g>\r\n    </g>\r\n    <g id=\"xtick_8\">\r\n     <g id=\"line2d_8\">\r\n      <g>\r\n       <use style=\"stroke:#000000;stroke-width:0.8;\" x=\"360.926538\" xlink:href=\"#m80a0536216\" y=\"224.64\"/>\r\n      </g>\r\n     </g>\r\n     <g id=\"text_8\">\r\n      <!-- 20 -->\r\n      <g transform=\"translate(354.564038 239.238437)scale(0.1 -0.1)\">\r\n       <use xlink:href=\"#DejaVuSans-50\"/>\r\n       <use x=\"63.623047\" xlink:href=\"#DejaVuSans-48\"/>\r\n      </g>\r\n     </g>\r\n    </g>\r\n    <g id=\"text_9\">\r\n     <!-- Note module 1 -->\r\n     <g transform=\"translate(171.06875 252.916562)scale(0.1 -0.1)\">\r\n      <defs>\r\n       <path d=\"M 9.8125 72.90625 \r\nL 23.09375 72.90625 \r\nL 55.421875 11.921875 \r\nL 55.421875 72.90625 \r\nL 64.984375 72.90625 \r\nL 64.984375 0 \r\nL 51.703125 0 \r\nL 19.390625 60.984375 \r\nL 19.390625 0 \r\nL 9.8125 0 \r\nz\r\n\" id=\"DejaVuSans-78\"/>\r\n       <path d=\"M 30.609375 48.390625 \r\nQ 23.390625 48.390625 19.1875 42.75 \r\nQ 14.984375 37.109375 14.984375 27.296875 \r\nQ 14.984375 17.484375 19.15625 11.84375 \r\nQ 23.34375 6.203125 30.609375 6.203125 \r\nQ 37.796875 6.203125 41.984375 11.859375 \r\nQ 46.1875 17.53125 46.1875 27.296875 \r\nQ 46.1875 37.015625 41.984375 42.703125 \r\nQ 37.796875 48.390625 30.609375 48.390625 \r\nz\r\nM 30.609375 56 \r\nQ 42.328125 56 49.015625 48.375 \r\nQ 55.71875 40.765625 55.71875 27.296875 \r\nQ 55.71875 13.875 49.015625 6.21875 \r\nQ 42.328125 -1.421875 30.609375 -1.421875 \r\nQ 18.84375 -1.421875 12.171875 6.21875 \r\nQ 5.515625 13.875 5.515625 27.296875 \r\nQ 5.515625 40.765625 12.171875 48.375 \r\nQ 18.84375 56 30.609375 56 \r\nz\r\n\" id=\"DejaVuSans-111\"/>\r\n       <path d=\"M 18.3125 70.21875 \r\nL 18.3125 54.6875 \r\nL 36.8125 54.6875 \r\nL 36.8125 47.703125 \r\nL 18.3125 47.703125 \r\nL 18.3125 18.015625 \r\nQ 18.3125 11.328125 20.140625 9.421875 \r\nQ 21.96875 7.515625 27.59375 7.515625 \r\nL 36.8125 7.515625 \r\nL 36.8125 0 \r\nL 27.59375 0 \r\nQ 17.1875 0 13.234375 3.875 \r\nQ 9.28125 7.765625 9.28125 18.015625 \r\nL 9.28125 47.703125 \r\nL 2.6875 47.703125 \r\nL 2.6875 54.6875 \r\nL 9.28125 54.6875 \r\nL 9.28125 70.21875 \r\nz\r\n\" id=\"DejaVuSans-116\"/>\r\n       <path d=\"M 56.203125 29.59375 \r\nL 56.203125 25.203125 \r\nL 14.890625 25.203125 \r\nQ 15.484375 15.921875 20.484375 11.0625 \r\nQ 25.484375 6.203125 34.421875 6.203125 \r\nQ 39.59375 6.203125 44.453125 7.46875 \r\nQ 49.3125 8.734375 54.109375 11.28125 \r\nL 54.109375 2.78125 \r\nQ 49.265625 0.734375 44.1875 -0.34375 \r\nQ 39.109375 -1.421875 33.890625 -1.421875 \r\nQ 20.796875 -1.421875 13.15625 6.1875 \r\nQ 5.515625 13.8125 5.515625 26.8125 \r\nQ 5.515625 40.234375 12.765625 48.109375 \r\nQ 20.015625 56 32.328125 56 \r\nQ 43.359375 56 49.78125 48.890625 \r\nQ 56.203125 41.796875 56.203125 29.59375 \r\nz\r\nM 47.21875 32.234375 \r\nQ 47.125 39.59375 43.09375 43.984375 \r\nQ 39.0625 48.390625 32.421875 48.390625 \r\nQ 24.90625 48.390625 20.390625 44.140625 \r\nQ 15.875 39.890625 15.1875 32.171875 \r\nz\r\n\" id=\"DejaVuSans-101\"/>\r\n       <path id=\"DejaVuSans-32\"/>\r\n       <path d=\"M 52 44.1875 \r\nQ 55.375 50.25 60.0625 53.125 \r\nQ 64.75 56 71.09375 56 \r\nQ 79.640625 56 84.28125 50.015625 \r\nQ 88.921875 44.046875 88.921875 33.015625 \r\nL 88.921875 0 \r\nL 79.890625 0 \r\nL 79.890625 32.71875 \r\nQ 79.890625 40.578125 77.09375 44.375 \r\nQ 74.3125 48.1875 68.609375 48.1875 \r\nQ 61.625 48.1875 57.5625 43.546875 \r\nQ 53.515625 38.921875 53.515625 30.90625 \r\nL 53.515625 0 \r\nL 44.484375 0 \r\nL 44.484375 32.71875 \r\nQ 44.484375 40.625 41.703125 44.40625 \r\nQ 38.921875 48.1875 33.109375 48.1875 \r\nQ 26.21875 48.1875 22.15625 43.53125 \r\nQ 18.109375 38.875 18.109375 30.90625 \r\nL 18.109375 0 \r\nL 9.078125 0 \r\nL 9.078125 54.6875 \r\nL 18.109375 54.6875 \r\nL 18.109375 46.1875 \r\nQ 21.1875 51.21875 25.484375 53.609375 \r\nQ 29.78125 56 35.6875 56 \r\nQ 41.65625 56 45.828125 52.96875 \r\nQ 50 49.953125 52 44.1875 \r\nz\r\n\" id=\"DejaVuSans-109\"/>\r\n       <path d=\"M 45.40625 46.390625 \r\nL 45.40625 75.984375 \r\nL 54.390625 75.984375 \r\nL 54.390625 0 \r\nL 45.40625 0 \r\nL 45.40625 8.203125 \r\nQ 42.578125 3.328125 38.25 0.953125 \r\nQ 33.9375 -1.421875 27.875 -1.421875 \r\nQ 17.96875 -1.421875 11.734375 6.484375 \r\nQ 5.515625 14.40625 5.515625 27.296875 \r\nQ 5.515625 40.1875 11.734375 48.09375 \r\nQ 17.96875 56 27.875 56 \r\nQ 33.9375 56 38.25 53.625 \r\nQ 42.578125 51.265625 45.40625 46.390625 \r\nz\r\nM 14.796875 27.296875 \r\nQ 14.796875 17.390625 18.875 11.75 \r\nQ 22.953125 6.109375 30.078125 6.109375 \r\nQ 37.203125 6.109375 41.296875 11.75 \r\nQ 45.40625 17.390625 45.40625 27.296875 \r\nQ 45.40625 37.203125 41.296875 42.84375 \r\nQ 37.203125 48.484375 30.078125 48.484375 \r\nQ 22.953125 48.484375 18.875 42.84375 \r\nQ 14.796875 37.203125 14.796875 27.296875 \r\nz\r\n\" id=\"DejaVuSans-100\"/>\r\n       <path d=\"M 8.5 21.578125 \r\nL 8.5 54.6875 \r\nL 17.484375 54.6875 \r\nL 17.484375 21.921875 \r\nQ 17.484375 14.15625 20.5 10.265625 \r\nQ 23.53125 6.390625 29.59375 6.390625 \r\nQ 36.859375 6.390625 41.078125 11.03125 \r\nQ 45.3125 15.671875 45.3125 23.6875 \r\nL 45.3125 54.6875 \r\nL 54.296875 54.6875 \r\nL 54.296875 0 \r\nL 45.3125 0 \r\nL 45.3125 8.40625 \r\nQ 42.046875 3.421875 37.71875 1 \r\nQ 33.40625 -1.421875 27.6875 -1.421875 \r\nQ 18.265625 -1.421875 13.375 4.4375 \r\nQ 8.5 10.296875 8.5 21.578125 \r\nz\r\nM 31.109375 56 \r\nz\r\n\" id=\"DejaVuSans-117\"/>\r\n       <path d=\"M 9.421875 75.984375 \r\nL 18.40625 75.984375 \r\nL 18.40625 0 \r\nL 9.421875 0 \r\nz\r\n\" id=\"DejaVuSans-108\"/>\r\n      </defs>\r\n      <use xlink:href=\"#DejaVuSans-78\"/>\r\n      <use x=\"74.804688\" xlink:href=\"#DejaVuSans-111\"/>\r\n      <use x=\"135.986328\" xlink:href=\"#DejaVuSans-116\"/>\r\n      <use x=\"175.195312\" xlink:href=\"#DejaVuSans-101\"/>\r\n      <use x=\"236.71875\" xlink:href=\"#DejaVuSans-32\"/>\r\n      <use x=\"268.505859\" xlink:href=\"#DejaVuSans-109\"/>\r\n      <use x=\"365.917969\" xlink:href=\"#DejaVuSans-111\"/>\r\n      <use x=\"427.099609\" xlink:href=\"#DejaVuSans-100\"/>\r\n      <use x=\"490.576172\" xlink:href=\"#DejaVuSans-117\"/>\r\n      <use x=\"553.955078\" xlink:href=\"#DejaVuSans-108\"/>\r\n      <use x=\"581.738281\" xlink:href=\"#DejaVuSans-101\"/>\r\n      <use x=\"643.261719\" xlink:href=\"#DejaVuSans-32\"/>\r\n      <use x=\"675.048828\" xlink:href=\"#DejaVuSans-49\"/>\r\n     </g>\r\n    </g>\r\n   </g>\r\n   <g id=\"matplotlib.axis_2\">\r\n    <g id=\"ytick_1\">\r\n     <g id=\"line2d_9\">\r\n      <defs>\r\n       <path d=\"M 0 0 \r\nL -3.5 0 \r\n\" id=\"mada65316bf\" style=\"stroke:#000000;stroke-width:0.8;\"/>\r\n      </defs>\r\n      <g>\r\n       <use style=\"stroke:#000000;stroke-width:0.8;\" x=\"40.603125\" xlink:href=\"#mada65316bf\" y=\"216.50386\"/>\r\n      </g>\r\n     </g>\r\n     <g id=\"text_10\">\r\n      <!-- 6 -->\r\n      <g transform=\"translate(27.240625 220.303079)scale(0.1 -0.1)\">\r\n       <use xlink:href=\"#DejaVuSans-54\"/>\r\n      </g>\r\n     </g>\r\n    </g>\r\n    <g id=\"ytick_2\">\r\n     <g id=\"line2d_10\">\r\n      <g>\r\n       <use style=\"stroke:#000000;stroke-width:0.8;\" x=\"40.603125\" xlink:href=\"#mada65316bf\" y=\"187.547824\"/>\r\n      </g>\r\n     </g>\r\n     <g id=\"text_11\">\r\n      <!-- 8 -->\r\n      <g transform=\"translate(27.240625 191.347043)scale(0.1 -0.1)\">\r\n       <use xlink:href=\"#DejaVuSans-56\"/>\r\n      </g>\r\n     </g>\r\n    </g>\r\n    <g id=\"ytick_3\">\r\n     <g id=\"line2d_11\">\r\n      <g>\r\n       <use style=\"stroke:#000000;stroke-width:0.8;\" x=\"40.603125\" xlink:href=\"#mada65316bf\" y=\"158.591787\"/>\r\n      </g>\r\n     </g>\r\n     <g id=\"text_12\">\r\n      <!-- 10 -->\r\n      <g transform=\"translate(20.878125 162.391006)scale(0.1 -0.1)\">\r\n       <use xlink:href=\"#DejaVuSans-49\"/>\r\n       <use x=\"63.623047\" xlink:href=\"#DejaVuSans-48\"/>\r\n      </g>\r\n     </g>\r\n    </g>\r\n    <g id=\"ytick_4\">\r\n     <g id=\"line2d_12\">\r\n      <g>\r\n       <use style=\"stroke:#000000;stroke-width:0.8;\" x=\"40.603125\" xlink:href=\"#mada65316bf\" y=\"129.635751\"/>\r\n      </g>\r\n     </g>\r\n     <g id=\"text_13\">\r\n      <!-- 12 -->\r\n      <g transform=\"translate(20.878125 133.434969)scale(0.1 -0.1)\">\r\n       <use xlink:href=\"#DejaVuSans-49\"/>\r\n       <use x=\"63.623047\" xlink:href=\"#DejaVuSans-50\"/>\r\n      </g>\r\n     </g>\r\n    </g>\r\n    <g id=\"ytick_5\">\r\n     <g id=\"line2d_13\">\r\n      <g>\r\n       <use style=\"stroke:#000000;stroke-width:0.8;\" x=\"40.603125\" xlink:href=\"#mada65316bf\" y=\"100.679714\"/>\r\n      </g>\r\n     </g>\r\n     <g id=\"text_14\">\r\n      <!-- 14 -->\r\n      <g transform=\"translate(20.878125 104.478933)scale(0.1 -0.1)\">\r\n       <use xlink:href=\"#DejaVuSans-49\"/>\r\n       <use x=\"63.623047\" xlink:href=\"#DejaVuSans-52\"/>\r\n      </g>\r\n     </g>\r\n    </g>\r\n    <g id=\"ytick_6\">\r\n     <g id=\"line2d_14\">\r\n      <g>\r\n       <use style=\"stroke:#000000;stroke-width:0.8;\" x=\"40.603125\" xlink:href=\"#mada65316bf\" y=\"71.723677\"/>\r\n      </g>\r\n     </g>\r\n     <g id=\"text_15\">\r\n      <!-- 16 -->\r\n      <g transform=\"translate(20.878125 75.522896)scale(0.1 -0.1)\">\r\n       <use xlink:href=\"#DejaVuSans-49\"/>\r\n       <use x=\"63.623047\" xlink:href=\"#DejaVuSans-54\"/>\r\n      </g>\r\n     </g>\r\n    </g>\r\n    <g id=\"ytick_7\">\r\n     <g id=\"line2d_15\">\r\n      <g>\r\n       <use style=\"stroke:#000000;stroke-width:0.8;\" x=\"40.603125\" xlink:href=\"#mada65316bf\" y=\"42.767641\"/>\r\n      </g>\r\n     </g>\r\n     <g id=\"text_16\">\r\n      <!-- 18 -->\r\n      <g transform=\"translate(20.878125 46.56686)scale(0.1 -0.1)\">\r\n       <use xlink:href=\"#DejaVuSans-49\"/>\r\n       <use x=\"63.623047\" xlink:href=\"#DejaVuSans-56\"/>\r\n      </g>\r\n     </g>\r\n    </g>\r\n    <g id=\"ytick_8\">\r\n     <g id=\"line2d_16\">\r\n      <g>\r\n       <use style=\"stroke:#000000;stroke-width:0.8;\" x=\"40.603125\" xlink:href=\"#mada65316bf\" y=\"13.811604\"/>\r\n      </g>\r\n     </g>\r\n     <g id=\"text_17\">\r\n      <!-- 20 -->\r\n      <g transform=\"translate(20.878125 17.610823)scale(0.1 -0.1)\">\r\n       <use xlink:href=\"#DejaVuSans-50\"/>\r\n       <use x=\"63.623047\" xlink:href=\"#DejaVuSans-48\"/>\r\n      </g>\r\n     </g>\r\n    </g>\r\n    <g id=\"text_18\">\r\n     <!-- Note module 2 -->\r\n     <g transform=\"translate(14.798438 152.854375)rotate(-90)scale(0.1 -0.1)\">\r\n      <use xlink:href=\"#DejaVuSans-78\"/>\r\n      <use x=\"74.804688\" xlink:href=\"#DejaVuSans-111\"/>\r\n      <use x=\"135.986328\" xlink:href=\"#DejaVuSans-116\"/>\r\n      <use x=\"175.195312\" xlink:href=\"#DejaVuSans-101\"/>\r\n      <use x=\"236.71875\" xlink:href=\"#DejaVuSans-32\"/>\r\n      <use x=\"268.505859\" xlink:href=\"#DejaVuSans-109\"/>\r\n      <use x=\"365.917969\" xlink:href=\"#DejaVuSans-111\"/>\r\n      <use x=\"427.099609\" xlink:href=\"#DejaVuSans-100\"/>\r\n      <use x=\"490.576172\" xlink:href=\"#DejaVuSans-117\"/>\r\n      <use x=\"553.955078\" xlink:href=\"#DejaVuSans-108\"/>\r\n      <use x=\"581.738281\" xlink:href=\"#DejaVuSans-101\"/>\r\n      <use x=\"643.261719\" xlink:href=\"#DejaVuSans-32\"/>\r\n      <use x=\"675.048828\" xlink:href=\"#DejaVuSans-50\"/>\r\n     </g>\r\n    </g>\r\n   </g>\r\n   <g id=\"patch_3\">\r\n    <path d=\"M 40.603125 224.64 \r\nL 40.603125 7.2 \r\n\" style=\"fill:none;stroke:#000000;stroke-linecap:square;stroke-linejoin:miter;stroke-width:0.8;\"/>\r\n   </g>\r\n   <g id=\"patch_4\">\r\n    <path d=\"M 375.403125 224.64 \r\nL 375.403125 7.2 \r\n\" style=\"fill:none;stroke:#000000;stroke-linecap:square;stroke-linejoin:miter;stroke-width:0.8;\"/>\r\n   </g>\r\n   <g id=\"patch_5\">\r\n    <path d=\"M 40.603125 224.64 \r\nL 375.403125 224.64 \r\n\" style=\"fill:none;stroke:#000000;stroke-linecap:square;stroke-linejoin:miter;stroke-width:0.8;\"/>\r\n   </g>\r\n   <g id=\"patch_6\">\r\n    <path d=\"M 40.603125 7.2 \r\nL 375.403125 7.2 \r\n\" style=\"fill:none;stroke:#000000;stroke-linecap:square;stroke-linejoin:miter;stroke-width:0.8;\"/>\r\n   </g>\r\n   <g id=\"legend_1\">\r\n    <g id=\"patch_7\">\r\n     <path d=\"M 47.603125 219.64 \r\nL 141.275 219.64 \r\nQ 143.275 219.64 143.275 217.64 \r\nL 143.275 189.28375 \r\nQ 143.275 187.28375 141.275 187.28375 \r\nL 47.603125 187.28375 \r\nQ 45.603125 187.28375 45.603125 189.28375 \r\nL 45.603125 217.64 \r\nQ 45.603125 219.64 47.603125 219.64 \r\nz\r\n\" style=\"fill:#ffffff;opacity:0.8;stroke:#cccccc;stroke-linejoin:miter;\"/>\r\n    </g>\r\n    <g id=\"PathCollection_3\">\r\n     <g>\r\n      <use style=\"fill:#1f77b4;stroke:#1f77b4;\" x=\"59.603125\" xlink:href=\"#m4cdfa683db\" y=\"196.257187\"/>\r\n     </g>\r\n    </g>\r\n    <g id=\"text_19\">\r\n     <!-- accepte -->\r\n     <g transform=\"translate(77.603125 198.882187)scale(0.1 -0.1)\">\r\n      <defs>\r\n       <path d=\"M 34.28125 27.484375 \r\nQ 23.390625 27.484375 19.1875 25 \r\nQ 14.984375 22.515625 14.984375 16.5 \r\nQ 14.984375 11.71875 18.140625 8.90625 \r\nQ 21.296875 6.109375 26.703125 6.109375 \r\nQ 34.1875 6.109375 38.703125 11.40625 \r\nQ 43.21875 16.703125 43.21875 25.484375 \r\nL 43.21875 27.484375 \r\nz\r\nM 52.203125 31.203125 \r\nL 52.203125 0 \r\nL 43.21875 0 \r\nL 43.21875 8.296875 \r\nQ 40.140625 3.328125 35.546875 0.953125 \r\nQ 30.953125 -1.421875 24.3125 -1.421875 \r\nQ 15.921875 -1.421875 10.953125 3.296875 \r\nQ 6 8.015625 6 15.921875 \r\nQ 6 25.140625 12.171875 29.828125 \r\nQ 18.359375 34.515625 30.609375 34.515625 \r\nL 43.21875 34.515625 \r\nL 43.21875 35.40625 \r\nQ 43.21875 41.609375 39.140625 45 \r\nQ 35.0625 48.390625 27.6875 48.390625 \r\nQ 23 48.390625 18.546875 47.265625 \r\nQ 14.109375 46.140625 10.015625 43.890625 \r\nL 10.015625 52.203125 \r\nQ 14.9375 54.109375 19.578125 55.046875 \r\nQ 24.21875 56 28.609375 56 \r\nQ 40.484375 56 46.34375 49.84375 \r\nQ 52.203125 43.703125 52.203125 31.203125 \r\nz\r\n\" id=\"DejaVuSans-97\"/>\r\n       <path d=\"M 48.78125 52.59375 \r\nL 48.78125 44.1875 \r\nQ 44.96875 46.296875 41.140625 47.34375 \r\nQ 37.3125 48.390625 33.40625 48.390625 \r\nQ 24.65625 48.390625 19.8125 42.84375 \r\nQ 14.984375 37.3125 14.984375 27.296875 \r\nQ 14.984375 17.28125 19.8125 11.734375 \r\nQ 24.65625 6.203125 33.40625 6.203125 \r\nQ 37.3125 6.203125 41.140625 7.25 \r\nQ 44.96875 8.296875 48.78125 10.40625 \r\nL 48.78125 2.09375 \r\nQ 45.015625 0.34375 40.984375 -0.53125 \r\nQ 36.96875 -1.421875 32.421875 -1.421875 \r\nQ 20.0625 -1.421875 12.78125 6.34375 \r\nQ 5.515625 14.109375 5.515625 27.296875 \r\nQ 5.515625 40.671875 12.859375 48.328125 \r\nQ 20.21875 56 33.015625 56 \r\nQ 37.15625 56 41.109375 55.140625 \r\nQ 45.0625 54.296875 48.78125 52.59375 \r\nz\r\n\" id=\"DejaVuSans-99\"/>\r\n       <path d=\"M 18.109375 8.203125 \r\nL 18.109375 -20.796875 \r\nL 9.078125 -20.796875 \r\nL 9.078125 54.6875 \r\nL 18.109375 54.6875 \r\nL 18.109375 46.390625 \r\nQ 20.953125 51.265625 25.265625 53.625 \r\nQ 29.59375 56 35.59375 56 \r\nQ 45.5625 56 51.78125 48.09375 \r\nQ 58.015625 40.1875 58.015625 27.296875 \r\nQ 58.015625 14.40625 51.78125 6.484375 \r\nQ 45.5625 -1.421875 35.59375 -1.421875 \r\nQ 29.59375 -1.421875 25.265625 0.953125 \r\nQ 20.953125 3.328125 18.109375 8.203125 \r\nz\r\nM 48.6875 27.296875 \r\nQ 48.6875 37.203125 44.609375 42.84375 \r\nQ 40.53125 48.484375 33.40625 48.484375 \r\nQ 26.265625 48.484375 22.1875 42.84375 \r\nQ 18.109375 37.203125 18.109375 27.296875 \r\nQ 18.109375 17.390625 22.1875 11.75 \r\nQ 26.265625 6.109375 33.40625 6.109375 \r\nQ 40.53125 6.109375 44.609375 11.75 \r\nQ 48.6875 17.390625 48.6875 27.296875 \r\nz\r\n\" id=\"DejaVuSans-112\"/>\r\n      </defs>\r\n      <use xlink:href=\"#DejaVuSans-97\"/>\r\n      <use x=\"61.279297\" xlink:href=\"#DejaVuSans-99\"/>\r\n      <use x=\"116.259766\" xlink:href=\"#DejaVuSans-99\"/>\r\n      <use x=\"171.240234\" xlink:href=\"#DejaVuSans-101\"/>\r\n      <use x=\"232.763672\" xlink:href=\"#DejaVuSans-112\"/>\r\n      <use x=\"296.240234\" xlink:href=\"#DejaVuSans-116\"/>\r\n      <use x=\"335.449219\" xlink:href=\"#DejaVuSans-101\"/>\r\n     </g>\r\n    </g>\r\n    <g id=\"PathCollection_4\">\r\n     <g>\r\n      <use style=\"fill:#ff7f0e;stroke:#ff7f0e;stroke-width:1.5;\" x=\"59.603125\" xlink:href=\"#m7d802a12ee\" y=\"210.935312\"/>\r\n     </g>\r\n    </g>\r\n    <g id=\"text_20\">\r\n     <!-- non accepte -->\r\n     <g transform=\"translate(77.603125 213.560312)scale(0.1 -0.1)\">\r\n      <defs>\r\n       <path d=\"M 54.890625 33.015625 \r\nL 54.890625 0 \r\nL 45.90625 0 \r\nL 45.90625 32.71875 \r\nQ 45.90625 40.484375 42.875 44.328125 \r\nQ 39.84375 48.1875 33.796875 48.1875 \r\nQ 26.515625 48.1875 22.3125 43.546875 \r\nQ 18.109375 38.921875 18.109375 30.90625 \r\nL 18.109375 0 \r\nL 9.078125 0 \r\nL 9.078125 54.6875 \r\nL 18.109375 54.6875 \r\nL 18.109375 46.1875 \r\nQ 21.34375 51.125 25.703125 53.5625 \r\nQ 30.078125 56 35.796875 56 \r\nQ 45.21875 56 50.046875 50.171875 \r\nQ 54.890625 44.34375 54.890625 33.015625 \r\nz\r\n\" id=\"DejaVuSans-110\"/>\r\n      </defs>\r\n      <use xlink:href=\"#DejaVuSans-110\"/>\r\n      <use x=\"63.378906\" xlink:href=\"#DejaVuSans-111\"/>\r\n      <use x=\"124.560547\" xlink:href=\"#DejaVuSans-110\"/>\r\n      <use x=\"187.939453\" xlink:href=\"#DejaVuSans-32\"/>\r\n      <use x=\"219.726562\" xlink:href=\"#DejaVuSans-97\"/>\r\n      <use x=\"281.005859\" xlink:href=\"#DejaVuSans-99\"/>\r\n      <use x=\"335.986328\" xlink:href=\"#DejaVuSans-99\"/>\r\n      <use x=\"390.966797\" xlink:href=\"#DejaVuSans-101\"/>\r\n      <use x=\"452.490234\" xlink:href=\"#DejaVuSans-112\"/>\r\n      <use x=\"515.966797\" xlink:href=\"#DejaVuSans-116\"/>\r\n      <use x=\"555.175781\" xlink:href=\"#DejaVuSans-101\"/>\r\n     </g>\r\n    </g>\r\n   </g>\r\n  </g>\r\n </g>\r\n <defs>\r\n  <clipPath id=\"p891205e60c\">\r\n   <rect height=\"217.44\" width=\"334.8\" x=\"40.603125\" y=\"7.2\"/>\r\n  </clipPath>\r\n </defs>\r\n</svg>\r\n",
      "text/plain": [
       "<Figure size 432x288 with 1 Axes>"
      ]
     },
     "metadata": {
      "needs_background": "light"
     },
     "output_type": "display_data"
    }
   ],
   "source": [
    "plt.scatter(X[np.where(y==1),1],X[np.where(y==1),2], label=\"accepte\",marker ='o')\n",
    "plt.scatter(X[np.where(y==0),1],X[np.where(y==0),2], label=\"non accepte\",marker ='x')\n",
    "\n",
    "plt.xlabel('Note module 1')\n",
    "plt.ylabel('Note module 2')\n",
    "plt.legend()"
   ]
  },
  {
   "cell_type": "markdown",
   "metadata": {},
   "source": [
    "Traçage du coût en fonction de theta0 et theta1"
   ]
  },
  {
   "cell_type": "code",
   "execution_count": null,
   "metadata": {},
   "outputs": [],
   "source": []
  },
  {
   "cell_type": "markdown",
   "metadata": {},
   "source": [
    "Prédire des valeurs de y"
   ]
  },
  {
   "cell_type": "code",
   "execution_count": 74,
   "metadata": {},
   "outputs": [],
   "source": [
    "# Predire pour des notes note1= 9 et note2=17\n"
   ]
  },
  {
   "cell_type": "markdown",
   "metadata": {},
   "source": [
    "# Vérification de l'implementation\n",
    "Comparer vos algorithmes à ceux de scikitlearn"
   ]
  },
  {
   "cell_type": "code",
   "execution_count": null,
   "metadata": {},
   "outputs": [],
   "source": []
  },
  {
   "cell_type": "markdown",
   "metadata": {},
   "source": [
    "# Renforcement d'apprentissage\n",
    "Mettre ici toute idée qui pourrait renforcer votre apprentissage"
   ]
  },
  {
   "cell_type": "code",
   "execution_count": null,
   "metadata": {},
   "outputs": [],
   "source": []
  },
  {
   "cell_type": "markdown",
   "metadata": {},
   "source": [
    "# Consignes"
   ]
  },
  {
   "cell_type": "markdown",
   "metadata": {},
   "source": [
    "Le travail est à remettre par groupe de 4 au maximum [1..4].\n",
    "\n",
    "Le délai est le vendredi 25 Mars 2022 à 22h\n"
   ]
  },
  {
   "cell_type": "code",
   "execution_count": null,
   "metadata": {},
   "outputs": [],
   "source": [
    "# bonne chance"
   ]
  }
 ],
 "metadata": {
  "kernelspec": {
   "display_name": "Python 3",
   "language": "python",
   "name": "python3"
  },
  "language_info": {
   "codemirror_mode": {
    "name": "ipython",
    "version": 3
   },
   "file_extension": ".py",
   "mimetype": "text/x-python",
   "name": "python",
   "nbconvert_exporter": "python",
   "pygments_lexer": "ipython3",
   "version": "3.8.8"
  }
 },
 "nbformat": 4,
 "nbformat_minor": 2
}
