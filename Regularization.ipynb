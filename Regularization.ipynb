{
 "cells": [
  {
   "cell_type": "markdown",
   "metadata": {},
   "source": [
    "# 🔲 Regularization in Logistic Regression \n",
    "\n",
    "**Regularization** refers to techniques that are used to calibrate machine learning models in order to minimize the adjusted loss function and prevent overfitting or underfitting. Using Regularization, we can fit our machine learning model appropriately on a given test set and hence reduce the errors in it.\n",
    "\n",
    "<center><img src=\"images/regularization.png\" width=1100></center>\n",
    "\n",
    "In this notebook, we would like to make a binary classification using regression.\n",
    "\n",
    "In order to do so, we would like to explore a dataset representing the commercialization of a product given two quality tests performed on that latest. We will implement regularized logistic regression to predict whether microchips from a fabrication plant passes quality assurance (QA). During QA, each microchip goes through various tests to ensure it is functioning correctly. \n",
    "\n",
    "Since we already made a gradient descent algorithm for Logistic Regression on our <a href=\"https://github.com/kawaremu/MLFromScratch/blob/main/Logistic%20Regression.ipynb\">previous notebook</a>, we are going to add a regularization feature to it."
   ]
  },
  {
   "cell_type": "code",
   "execution_count": 1,
   "metadata": {},
   "outputs": [],
   "source": [
    "import numpy as np\n",
    "import matplotlib.pyplot as plt\n",
    "import pandas as pd\n",
    "import seaborn as sns"
   ]
  },
  {
   "cell_type": "code",
   "execution_count": 2,
   "metadata": {},
   "outputs": [],
   "source": [
    "plt.style.use('seaborn-whitegrid')"
   ]
  },
  {
   "cell_type": "code",
   "execution_count": 3,
   "metadata": {},
   "outputs": [
    {
     "data": {
      "text/html": [
       "<div>\n",
       "<style scoped>\n",
       "    .dataframe tbody tr th:only-of-type {\n",
       "        vertical-align: middle;\n",
       "    }\n",
       "\n",
       "    .dataframe tbody tr th {\n",
       "        vertical-align: top;\n",
       "    }\n",
       "\n",
       "    .dataframe thead th {\n",
       "        text-align: right;\n",
       "    }\n",
       "</style>\n",
       "<table border=\"1\" class=\"dataframe\">\n",
       "  <thead>\n",
       "    <tr style=\"text-align: right;\">\n",
       "      <th></th>\n",
       "      <th>test1</th>\n",
       "      <th>test2</th>\n",
       "      <th>commercialized</th>\n",
       "    </tr>\n",
       "  </thead>\n",
       "  <tbody>\n",
       "    <tr>\n",
       "      <th>0</th>\n",
       "      <td>0.051267</td>\n",
       "      <td>0.69956</td>\n",
       "      <td>1</td>\n",
       "    </tr>\n",
       "    <tr>\n",
       "      <th>1</th>\n",
       "      <td>-0.092742</td>\n",
       "      <td>0.68494</td>\n",
       "      <td>1</td>\n",
       "    </tr>\n",
       "    <tr>\n",
       "      <th>2</th>\n",
       "      <td>-0.213710</td>\n",
       "      <td>0.69225</td>\n",
       "      <td>1</td>\n",
       "    </tr>\n",
       "    <tr>\n",
       "      <th>3</th>\n",
       "      <td>-0.375000</td>\n",
       "      <td>0.50219</td>\n",
       "      <td>1</td>\n",
       "    </tr>\n",
       "    <tr>\n",
       "      <th>4</th>\n",
       "      <td>-0.513250</td>\n",
       "      <td>0.46564</td>\n",
       "      <td>1</td>\n",
       "    </tr>\n",
       "  </tbody>\n",
       "</table>\n",
       "</div>"
      ],
      "text/plain": [
       "      test1    test2  commercialized\n",
       "0  0.051267  0.69956               1\n",
       "1 -0.092742  0.68494               1\n",
       "2 -0.213710  0.69225               1\n",
       "3 -0.375000  0.50219               1\n",
       "4 -0.513250  0.46564               1"
      ]
     },
     "execution_count": 3,
     "metadata": {},
     "output_type": "execute_result"
    }
   ],
   "source": [
    "df_products = pd.read_csv('data/products.csv')\n",
    "df_products.head()"
   ]
  },
  {
   "cell_type": "code",
   "execution_count": 4,
   "metadata": {},
   "outputs": [],
   "source": [
    "features = ['test1', 'test2']\n",
    "target = 'commercialized'"
   ]
  },
  {
   "cell_type": "code",
   "execution_count": 106,
   "metadata": {},
   "outputs": [
    {
     "data": {
      "text/plain": [
       "((118, 2), (118, 1))"
      ]
     },
     "execution_count": 106,
     "metadata": {},
     "output_type": "execute_result"
    }
   ],
   "source": [
    "X = df_products[features].values\n",
    "y = df_products[target].values.astype(np.int32).reshape(-1,1)\n",
    "X.shape,y.shape"
   ]
  },
  {
   "cell_type": "code",
   "execution_count": 107,
   "metadata": {},
   "outputs": [
    {
     "data": {
      "text/plain": [
       "(array([[ 0.051267,  0.69956 ],\n",
       "        [-0.092742,  0.68494 ],\n",
       "        [-0.21371 ,  0.69225 ],\n",
       "        [-0.375   ,  0.50219 ],\n",
       "        [-0.51325 ,  0.46564 ]]),\n",
       " array([[1],\n",
       "        [1],\n",
       "        [1],\n",
       "        [1],\n",
       "        [1]]))"
      ]
     },
     "execution_count": 107,
     "metadata": {},
     "output_type": "execute_result"
    }
   ],
   "source": [
    "X[:5],y[:5]"
   ]
  },
  {
   "cell_type": "markdown",
   "metadata": {},
   "source": [
    "# 🦮 Data Exploration\n",
    "\n",
    "A machine learning model and conclusions cannot be made without exploration and visualisation.\n"
   ]
  },
  {
   "cell_type": "code",
   "execution_count": 7,
   "metadata": {},
   "outputs": [
    {
     "data": {
      "text/plain": [
       "<AxesSubplot:xlabel='commercialized', ylabel='count'>"
      ]
     },
     "execution_count": 7,
     "metadata": {},
     "output_type": "execute_result"
    },
    {
     "data": {
      "image/png": "[encoded data removed]",
      "text/plain": [
       "<Figure size 216x360 with 1 Axes>"
      ]
     },
     "metadata": {},
     "output_type": "display_data"
    }
   ],
   "source": [
    "plt.figure(figsize=(3,5))\n",
    "sns.countplot(x='commercialized',data=df_products,palette='hls')"
   ]
  },
  {
   "cell_type": "code",
   "execution_count": 8,
   "metadata": {},
   "outputs": [
    {
     "data": {
      "text/plain": [
       "<AxesSubplot:xlabel='test1', ylabel='test2'>"
      ]
     },
     "execution_count": 8,
     "metadata": {},
     "output_type": "execute_result"
    },
    {
     "data": {
      "image/png": "[encoded data removed]",
      "text/plain": [
       "<Figure size 842.4x595.44 with 1 Axes>"
      ]
     },
     "metadata": {},
     "output_type": "display_data"
    }
   ],
   "source": [
    "sns.set_context(\"paper\")\n",
    "sns.set(rc={'figure.figsize':(11.7,8.27)})\n",
    "plt.style.use('bmh')\n",
    "markers = {1: \"o\", 0: \"X\"}\n",
    "hue_order = [1,0]\n",
    "sns.scatterplot(data=df_products, x=\"test1\", y=\"test2\",hue=\"commercialized\",style=\"commercialized\",markers=markers,hue_order=hue_order,sizes=40)"
   ]
  },
  {
   "cell_type": "code",
   "execution_count": 9,
   "metadata": {},
   "outputs": [
    {
     "data": {
      "text/plain": [
       "<seaborn.axisgrid.PairGrid at 0x24ac44abd60>"
      ]
     },
     "execution_count": 9,
     "metadata": {},
     "output_type": "execute_result"
    },
    {
     "data": {
      "image/png": "[encoded data removed]",
      "text/plain": [
       "<Figure size 740.05x432 with 6 Axes>"
      ]
     },
     "metadata": {},
     "output_type": "display_data"
    }
   ],
   "source": [
    "sns.pairplot(df_products, hue='commercialized', height=3,aspect=1.5, palette=\"husl\",markers=[\"X\", \"o\"])"
   ]
  },
  {
   "cell_type": "markdown",
   "metadata": {},
   "source": [
    "The above figure shows that our dataset cannot be separated into positive and negative examples by a straight-line through the plot. Therefore, a straight-forward application of logistic regression will not perform well on this dataset since logistic regression will only be able to find a linear decision boundary."
   ]
  },
  {
   "cell_type": "markdown",
   "metadata": {},
   "source": [
    "# 👩🏻‍🏫 The problem of Under/Overfitting\n",
    "\n",
    "In our <a>Linear Regression notebook</a>, we tried to predict the benefice of a village given its number of inhabitants.\n",
    "\n",
    "<center><img src=\"images\\linear_regression_notebook1.png\"></center>\n",
    "\n",
    "\n",
    "However, some points seem to be *wrongly* misplaced and are not fitting to the line. This means that our model performed poorly and is facing the *Underfitting* problem (or is highly biaised).\n",
    "\n",
    "It is basically fitting a line to the data and our model has a very strong preconception/biais that our features variables are going to vary linearly with the target. \n",
    "\n",
    "\n",
    "Same problem happened when we did our predictions on the logistic regression problem, some data points are labeled as belonging to the wrong class; it is because the model is too *rigid* at its prediction.\n",
    "\n",
    "<center><img src=\"images\\draw_boundaries_logistic.png\"></center>\n",
    "\n",
    "In the other side, there is the *Overfitting* problem where the learned hypothesis may fit the training set very well (when we have too many features),but fails to generalize to new examples.\n",
    "\n",
    "- What are the causes of Overfitting ?\n",
    "  1. When including \"irrelevant features\", the model will learn every feature we included in it, regardless whether that feature has impact or is noisy (high variance data),\n",
    "\n",
    "  2. Features that are highly correlated or co-linear can cause overfitting. Multicollinearity happens when independent variables in the regression model are highly correlated to each other. It causes unstability in the data.\n",
    "\n",
    "  3. Linear models can over-fit if the coefficients (after feature standardization) are too large. Larger the absolute value of the coefficient, more power it gives to the predicted value, resulting in a higher variance.\n",
    "\n"
   ]
  },
  {
   "cell_type": "markdown",
   "metadata": {},
   "source": [
    "# 🤔 What is the solution ? Regularization !\n",
    "\n",
    "The implementation of Gradient Descent we did previously had no regularization. Because of this, our model is likely to either overfit or underfit the training data.\n",
    "\n",
    "\n",
    "There are many ways to combat overfitting, we can cite : \n",
    "- Reduce the number of features manually.  \n",
    "    \n",
    "- **Regularization** : keeping all the features but reduce the magnitude/values of parameters $\\theta_j$\n",
    "\n",
    "\n",
    "Regularization is a method for “constraining” or “regularizing” the size of the coefficients, thus “shrinking” them towards zero.\n",
    "\n",
    "L1 regularization *(also known as L1 norm or Lasso)* and L2 regularization *(or the L2 norm, or Ridge)* are 2 popular regularization techniques we could use to combat the overfitting in our model. \n",
    "\n",
    "L2 regularization combats overfitting by forcing weights to be small, but not making them exactly 0. On the other hand,  L1 combats overfitting by shrinking the parameters towards 0. This makes some features obsolete. \n",
    "\n",
    "In this notebook, we will dive into Ridge Regularization (the other one will come when we will start talking about neural networks)."
   ]
  },
  {
   "cell_type": "markdown",
   "metadata": {},
   "source": [
    "## 🔖 Feature mapping\n",
    "\n",
    "One way to fit the data better is to create more features from each data point .In the following function mapFeature, we will map the features into all polynomial terms of $x_1$ and $x_2$ up to the sixth power.\n",
    "\n",
    "$$ \\text{mapFeature}(x) = \\begin{bmatrix} 1 & x_1 & x_2 & x_1^2 & x_1 x_2 & x_2^2 & x_1^3 & \\dots & x_1 x_2^5 & x_2^6 \\end{bmatrix}^T $$\n",
    "\n",
    "$x_0 \\rightarrow 1$\n",
    "\n",
    "$x_1 \\rightarrow x_1$\n",
    "\n",
    "$x_2 \\rightarrow x_2$\n",
    "\n",
    "$x_3 \\rightarrow {x_1}^2$\n",
    "\n",
    "$x_4 \\rightarrow {x_1}x_2$\n",
    "\n",
    "$x_5 \\rightarrow {x_2}^2$\n",
    "\n",
    "$x_6 \\rightarrow {x_1}^3$\n",
    "\n",
    "$x_7 \\rightarrow {x_1}^2 x_2$\n",
    "\n",
    "$x_8 \\rightarrow x_1 {x_2}^2$\n",
    "\n",
    "$x_9 \\rightarrow {x_2}^3$\n",
    "\n",
    "$\\dots$\n",
    "\n",
    "$x_{27} \\rightarrow {x_2}^6$\n",
    "\n"
   ]
  },
  {
   "cell_type": "markdown",
   "metadata": {},
   "source": [
    "For a 6 degree polynomial function for 2 features, we will have $^nP_k - k = ^6P_2 - 2 = 30 - 2 = 28$ features, where $k$ is the number of features and $n$ the polynomial degree."
   ]
  },
  {
   "cell_type": "code",
   "execution_count": 11,
   "metadata": {},
   "outputs": [],
   "source": [
    "def mapFeature(X, degree=6):\n",
    "    '''\n",
    "    Maps the two input features to quadratic features.\n",
    "    Returns a new feature array with more features, comprising of\n",
    "    X1, X2, X1.^2, X2.^2, X1*X2, X1*X2.^2, etc..\n",
    "    Parameters\n",
    "    ----------\n",
    "    X : array_like\n",
    "        The data set with shape (m x n). m is the number of examples, and\n",
    "        n is the number of features (after feature mapping).\n",
    "    degree: int, optional\n",
    "        The polynomial degree.\n",
    "    Returns\n",
    "    -------\n",
    "    : array_like\n",
    "        A matrix of of m rows, and columns depend on the degree of polynomial.\n",
    "    '''\n",
    "    X1=X[:,0]\n",
    "    X2=X[:,1]\n",
    "    if X1.ndim > 0:\n",
    "        out = [np.ones(X1.shape[0])]\n",
    "    else:\n",
    "        out = [np.ones(1)]\n",
    "\n",
    "    for i in range(1, degree + 1):\n",
    "        for j in range(i + 1):\n",
    "            out.append((X1 ** (i - j)) * (X2 ** j))\n",
    "\n",
    "    if X1.ndim > 0:\n",
    "        return np.stack(out, axis=1)\n",
    "    else:\n",
    "        return np.array(out)"
   ]
  },
  {
   "cell_type": "code",
   "execution_count": 108,
   "metadata": {},
   "outputs": [
    {
     "name": "stdout",
     "output_type": "stream",
     "text": [
      "2 input features, degree = 1 -> output features = 3\n",
      "2 input features, degree = 2 -> output features = 6\n",
      "2 input features, degree = 3 -> output features = 10\n",
      "2 input features, degree = 4 -> output features = 15\n",
      "2 input features, degree = 5 -> output features = 21\n",
      "2 input features, degree = 6 -> output features = 28\n",
      "2 input features, degree = 7 -> output features = 36\n",
      "2 input features, degree = 8 -> output features = 45\n",
      "2 input features, degree = 9 -> output features = 55\n",
      "2 input features, degree = 10 -> output features = 66\n"
     ]
    }
   ],
   "source": [
    "for _ in range(1,11):\n",
    "  X_reshaped = mapFeature(X,degree=_)\n",
    "  print('2 input features, degree =',_,'-> output features =',X_reshaped.shape[1])"
   ]
  },
  {
   "cell_type": "markdown",
   "metadata": {},
   "source": [
    "## 🎢 Cost function and Gradient\n",
    "\n",
    "For a normal linear regression model, we estimate the coefficients using the least squares criterion, which minimizes the residual sum of squares (RSS), also called MSE.\n",
    "\n",
    "\n",
    "$$MSE = \\frac{1}N \\sum_{i=1}^n(\\hat{y} - y)^2$$ \n",
    "\n",
    "For a regularized linear regression model, we minimize the sum of RSS and a “penalty term” that penalizes coefficient size.\n",
    "\n",
    "Same goes for the logistic regression, the only difference is that the cost function $J_{\\theta}$ is different (due to the distribution of data we talked about previously). Regularization is to be generalized regardless of the nature of the model, which leads us to the redefinition of the cost function such : \n",
    "\n",
    "$$ J(\\theta) = \\frac{1}{m} \\sum_{i=1}^m \\left[ h_\\theta \\left(x^{(i)}\\right) - y^{(i)} \\right] + \\frac{\\lambda}{2m} \\sum_{j=1}^n \\theta_j^2 $$\n",
    "\n",
    "\n",
    "**Ridge regression** (or L2) minimizes :\n",
    "\n",
    "$$ L2 = J(\\theta)  + \\lambda \\sum_{j=1}^n \\theta_j^2 $$\n",
    "\n",
    "**Lasso regression** (or L1) minimizes :\n",
    "\n",
    "$$ L1 = J(\\theta)  + \\lambda \\sum_{j=1}^n |\\theta_j| $$\n",
    "\n",
    "Where :\n",
    "- $n$ is the number of features,\n",
    "- $\\theta_j$ is the model coefficients,\n",
    "- $\\lambda = \\frac{\\lambda}{2m}$ is a tuning parameter:\n",
    "  - A small $\\lambda$ imposes no penalty on the coefficient size, and is equivalent to the normal regression model.\n",
    "  - Increasing $\\lambda$ penalizes the coefficients and thus shrinks them."
   ]
  },
  {
   "cell_type": "markdown",
   "metadata": {},
   "source": [
    "### Cost function\n",
    "The problem we are dealing with is a logistic regression problem, so we are going to define the cost function accordingly."
   ]
  },
  {
   "cell_type": "code",
   "execution_count": 75,
   "metadata": {},
   "outputs": [],
   "source": [
    "def sigmoid(z):\n",
    "    return 1 / (1 + np.exp(-z))\n",
    "\n",
    "assert sigmoid(0) == 0.5"
   ]
  },
  {
   "cell_type": "code",
   "execution_count": 76,
   "metadata": {},
   "outputs": [],
   "source": [
    "def h_theta(X,theta):\n",
    "  return sigmoid(X.dot(theta))"
   ]
  },
  {
   "cell_type": "code",
   "execution_count": 129,
   "metadata": {},
   "outputs": [],
   "source": [
    "def get_cost(X,y,theta,lambda_):  \n",
    "    \"\"\"\n",
    "    Compute cost and gradient for logistic regression with regularization.\n",
    "    \n",
    "    Parameters\n",
    "    ----------\n",
    "    theta : array_like\n",
    "        Logistic regression parameters. A vector with shape (n, ). n is \n",
    "        the number of features including any intercept. If we have mapped\n",
    "        our initial features into polynomial features, then n is the total \n",
    "        number of polynomial features. \n",
    "    \n",
    "    X : array_like\n",
    "        The data set with shape (m x n). m is the number of examples, and\n",
    "        n is the number of features (after feature mapping).\n",
    "    \n",
    "    y : array_like\n",
    "        The data labels. A vector with shape (m, ).\n",
    "    \n",
    "    lambda_ : float\n",
    "        The regularization parameter. \n",
    "    \n",
    "    Returns\n",
    "    -------\n",
    "    J : float\n",
    "        The computed value for the regularized cost function. \n",
    "    \"\"\"\n",
    "    \n",
    "    \n",
    "    # number of training examples\n",
    "    m = y.size\n",
    "\n",
    "    # Calculate h = X * theta\n",
    "    J = 0 \n",
    "    h = h_theta(X,theta)\n",
    "    \n",
    "    # A function to square our theta vector\n",
    "    squarer_fun = lambda t: t ** 2\n",
    "    vfunc = np.vectorize(squarer_fun)\n",
    "    theta_squarred = vfunc(theta)\n",
    "    \n",
    "    J = -1/m * np.sum((y * np.log(h) + (1 - y) * np.log(1 - h))) + (lambda_/2*m) * np.sum(theta_squarred)\n",
    "     \n",
    "    return J"
   ]
  },
  {
   "cell_type": "code",
   "execution_count": 52,
   "metadata": {},
   "outputs": [
    {
     "data": {
      "text/plain": [
       "array([ 1,  4,  9, 16, 25])"
      ]
     },
     "execution_count": 52,
     "metadata": {},
     "output_type": "execute_result"
    }
   ],
   "source": [
    "x = np.array([1, 2, 3, 4, 5])\n",
    "squarer = lambda t: t ** 2\n",
    "vfunc = np.vectorize(squarer)\n",
    "vfunc(x)"
   ]
  },
  {
   "cell_type": "markdown",
   "metadata": {},
   "source": [
    "### Gradient Descent\n",
    "As for every regression problem, we need to minimize this cost function by using the gradient descent method.\n",
    "\n",
    "\n",
    "Note that we should not regularize the parameters $\\theta_0$. The gradient of the cost function is a vector where the $j^{th}$ element is defined as follows:\n",
    "\n",
    "$$ \\frac{\\partial J(\\theta)}{\\partial \\theta_0} = \\frac{1}{m} \\sum_{i=1}^m \\left( h_\\theta \\left(x^{(i)}\\right) - y^{(i)} \\right) x_j^{(i)} \\qquad \\text{for } j =0 $$\n",
    "\n",
    "$$ \\frac{\\partial J(\\theta)}{\\partial \\theta_j} = \\left( \\frac{1}{m} \\sum_{i=1}^m \\left( h_\\theta \\left(x^{(i)}\\right) - y^{(i)} \\right) x_j^{(i)} \\right) + \\frac{\\lambda}{m}\\theta_j \\qquad \\text{for } j \\ge 1 $$\n",
    "<a id=\"costFunctionReg\"></a>\n",
    "\n",
    "To do : \n",
    "\n",
    "Add explanations about updating theta values"
   ]
  },
  {
   "cell_type": "code",
   "execution_count": 262,
   "metadata": {},
   "outputs": [],
   "source": [
    "import time\n",
    "def gradient_descent(X, y, theta, num_iters=100, alpha=0.0001,lambda_=10,verbose=False):\n",
    "  '''\n",
    "  Performs gradient descent to learn `theta`. Updates theta by taking `num_iters`\n",
    "  gradient steps with learning rate `alpha`.\n",
    "  \n",
    "  Parameters\n",
    "  ----------\n",
    "  X : array_like\n",
    "      The input dataset of shape (m x n+1).\n",
    "  y : array_like\n",
    "        Value at given features. A vector of shape (m, ).       \n",
    "  theta : array_like\n",
    "        Initial values for the linear regression parameters. \n",
    "        A vector of shape (n+1, ).\n",
    "  alpha : float\n",
    "        The learning rate.\n",
    "  num_iters : int\n",
    "        The number of iterations for gradient descent.       \n",
    "  lambda_ : float\n",
    "        The regularization parameter.     \n",
    "          \n",
    "  verbose : boolean\n",
    "        If set to True, will log the values of the cost and theta values.\n",
    "  \n",
    "  Returns\n",
    "  -------\n",
    "  theta : array_like\n",
    "        The learned regression parameters. A vector of shape (n+1, ).\n",
    "        \n",
    "  J_history : list\n",
    "        A python list for the values of the cost function after each iteration.   \n",
    "  parameters_out : dict\n",
    "      A dictionary that has two keys : biais and weight for the learned regression parameters.\n",
    "  '''\n",
    "  \n",
    "  # Number of training examples\n",
    "  m = y.size\n",
    "                    \n",
    "  # History of costs\n",
    "  result_idx = 0\n",
    "  gd_iterations_df = pd.DataFrame(columns=['iteration','cost']) \n",
    "  J_history = [] \n",
    "  theta_history = []\n",
    "  parameters_out = {}\n",
    "  \n",
    "  # Append the initial cost\n",
    "  gd_iterations_df.loc[result_idx]=[0,get_cost(X,y,theta,lambda_)]\n",
    "  result_idx += 1\n",
    "  \n",
    "  start = time.time()\n",
    "  for i in range(1,num_iters+1):\n",
    "    \n",
    "      # Step 1 : Calculate h = sigmoid(X * theta)\n",
    "      h = h_theta(X,theta)\n",
    "      \n",
    "      # Step 2 :Calculate the error = (h - y) \n",
    "      error = np.subtract(h, y)\n",
    "      \n",
    "      # Step 3 : Compute the gradient for updating theta\n",
    "      delta_grad = np.zeros(shape=(X.shape[1],1))\n",
    "      \n",
    "      # Step 4 : in Regularization, theta_0 has to be updated separately.\n",
    "      delta_grad[0] = delta_grad[0] - alpha * 1/m * np.dot(X[:,0].T, error[:,0])\n",
    "      delta_grad[1:] = delta_grad[1:] - (alpha * 1/m * np.sum(np.dot(X[:,1:].T, error),axis=1).reshape(-1,1) - (my_lambda/m)*initial_theta[1:])\n",
    "      \n",
    "      \n",
    "      # Step 5 : Update theta\n",
    "      theta = np.subtract(theta, delta_grad)\n",
    "\n",
    "      # Step 5 : Compute the cost to keep history of it\n",
    "      cost = get_cost(X,y,theta,lambda_)\n",
    "      \n",
    "      \n",
    "      gd_iterations_df.loc[result_idx]=[i,cost]\n",
    "      result_idx += 1\n",
    "      \n",
    "      J_history.append(cost)\n",
    "      theta_history.append(theta.tolist())\n",
    "      \n",
    "      if verbose:\n",
    "          print('{}/{} [>==================]  - loss: {:.2f} - theta = {}'.format(i+1,num_iters,cost,theta))\n",
    "          \n",
    "  print('Time spent: {:0.2f}s'.format(time.time()-start))\n",
    "  \n",
    "  parameters_out[\"bias\"] = theta[0][0]\n",
    "  parameters_out[\"weight\"] = theta[1:]\n",
    "  return parameters_out,theta, theta_history, J_history,gd_iterations_df "
   ]
  },
  {
   "cell_type": "markdown",
   "metadata": {},
   "source": [
    "## 🧪 Trying our model"
   ]
  },
  {
   "cell_type": "markdown",
   "metadata": {},
   "source": [
    "Let's reuse the functions we made on the previous notebook.\n",
    "\n",
    "Since we are dealing with a regression problem, we will always need a column of ones stacked to our features that will be multipied by the biais $\\theta_{0}$. \n",
    "\n",
    "But our mapping function handles the intercept for us, so there is no need to call or define a function."
   ]
  },
  {
   "cell_type": "code",
   "execution_count": 263,
   "metadata": {},
   "outputs": [
    {
     "data": {
      "text/plain": [
       "(118, 28)"
      ]
     },
     "execution_count": 263,
     "metadata": {},
     "output_type": "execute_result"
    }
   ],
   "source": [
    "X = mapFeature(X,degree=6)\n",
    "X.shape"
   ]
  },
  {
   "cell_type": "markdown",
   "metadata": {},
   "source": [
    "Weight and biais parameters need to be initialized."
   ]
  },
  {
   "cell_type": "code",
   "execution_count": 264,
   "metadata": {},
   "outputs": [],
   "source": [
    "def initialize_theta(n_features,is_random=True):\n",
    "  \"\"\"\n",
    "  Returns bias (intercept) and weight for a vector X of n features in the form of a ndarray [theta_0,theta_1,..., theta_n].\n",
    "  theta_0 being the bias, and the others the weights.\n",
    "  n has to be greater or equal to 1.\n",
    "  \n",
    "  Parameters:\n",
    "  n_features: number of features of X. If errors occur, reshape(-1,1) your vector.\n",
    "  is_random: if set to False, will set values of bias and theta to zero.\n",
    "  \"\"\"\n",
    "  if is_random:\n",
    "    return np.random.rand(n_features,1) \n",
    "  else:\n",
    "    return np.zeros(shape=(n_features,1))"
   ]
  },
  {
   "cell_type": "code",
   "execution_count": 302,
   "metadata": {},
   "outputs": [
    {
     "data": {
      "text/plain": [
       "(28, 1)"
      ]
     },
     "execution_count": 302,
     "metadata": {},
     "output_type": "execute_result"
    }
   ],
   "source": [
    "initial_theta = initialize_theta(X.shape[1],is_random=False)\n",
    "initial_theta.shape"
   ]
  },
  {
   "cell_type": "code",
   "execution_count": 286,
   "metadata": {},
   "outputs": [
    {
     "name": "stdout",
     "output_type": "stream",
     "text": [
      "initial cost: 0.693 \n"
     ]
    }
   ],
   "source": [
    "initial_cost = get_cost(X,y,initial_theta,lambda_=10)\n",
    "print('initial cost: {:.3f} '.format(initial_cost))"
   ]
  },
  {
   "cell_type": "code",
   "execution_count": 303,
   "metadata": {},
   "outputs": [],
   "source": [
    "# Parameters\n",
    "iterations = 10000\n",
    "alpha = 3e-10\n",
    "\n",
    "# Tuning parameters\n",
    "my_lambda = 10"
   ]
  },
  {
   "cell_type": "code",
   "execution_count": 304,
   "metadata": {},
   "outputs": [
    {
     "name": "stdout",
     "output_type": "stream",
     "text": [
      "Time spent: 8.87s\n"
     ]
    }
   ],
   "source": [
    "# Running gradient descent\n",
    "parameters_out,_, theta_history, J_history,gd_iterations_df = gradient_descent(X, y, initial_theta,iterations,alpha, lambda_=my_lambda)"
   ]
  },
  {
   "cell_type": "code",
   "execution_count": 305,
   "metadata": {},
   "outputs": [
    {
     "data": {
      "text/html": [
       "<div>\n",
       "<style scoped>\n",
       "    .dataframe tbody tr th:only-of-type {\n",
       "        vertical-align: middle;\n",
       "    }\n",
       "\n",
       "    .dataframe tbody tr th {\n",
       "        vertical-align: top;\n",
       "    }\n",
       "\n",
       "    .dataframe thead th {\n",
       "        text-align: right;\n",
       "    }\n",
       "</style>\n",
       "<table border=\"1\" class=\"dataframe\">\n",
       "  <thead>\n",
       "    <tr style=\"text-align: right;\">\n",
       "      <th></th>\n",
       "      <th>iteration</th>\n",
       "      <th>cost</th>\n",
       "    </tr>\n",
       "  </thead>\n",
       "  <tbody>\n",
       "    <tr>\n",
       "      <th>0</th>\n",
       "      <td>0.0</td>\n",
       "      <td>0.693147</td>\n",
       "    </tr>\n",
       "    <tr>\n",
       "      <th>1</th>\n",
       "      <td>1.0</td>\n",
       "      <td>0.693147</td>\n",
       "    </tr>\n",
       "    <tr>\n",
       "      <th>2</th>\n",
       "      <td>2.0</td>\n",
       "      <td>0.693147</td>\n",
       "    </tr>\n",
       "    <tr>\n",
       "      <th>3</th>\n",
       "      <td>3.0</td>\n",
       "      <td>0.693147</td>\n",
       "    </tr>\n",
       "    <tr>\n",
       "      <th>4</th>\n",
       "      <td>4.0</td>\n",
       "      <td>0.693147</td>\n",
       "    </tr>\n",
       "    <tr>\n",
       "      <th>...</th>\n",
       "      <td>...</td>\n",
       "      <td>...</td>\n",
       "    </tr>\n",
       "    <tr>\n",
       "      <th>9996</th>\n",
       "      <td>9996.0</td>\n",
       "      <td>0.693147</td>\n",
       "    </tr>\n",
       "    <tr>\n",
       "      <th>9997</th>\n",
       "      <td>9997.0</td>\n",
       "      <td>0.693147</td>\n",
       "    </tr>\n",
       "    <tr>\n",
       "      <th>9998</th>\n",
       "      <td>9998.0</td>\n",
       "      <td>0.693147</td>\n",
       "    </tr>\n",
       "    <tr>\n",
       "      <th>9999</th>\n",
       "      <td>9999.0</td>\n",
       "      <td>0.693147</td>\n",
       "    </tr>\n",
       "    <tr>\n",
       "      <th>10000</th>\n",
       "      <td>10000.0</td>\n",
       "      <td>0.693147</td>\n",
       "    </tr>\n",
       "  </tbody>\n",
       "</table>\n",
       "<p>10001 rows × 2 columns</p>\n",
       "</div>"
      ],
      "text/plain": [
       "       iteration      cost\n",
       "0            0.0  0.693147\n",
       "1            1.0  0.693147\n",
       "2            2.0  0.693147\n",
       "3            3.0  0.693147\n",
       "4            4.0  0.693147\n",
       "...          ...       ...\n",
       "9996      9996.0  0.693147\n",
       "9997      9997.0  0.693147\n",
       "9998      9998.0  0.693147\n",
       "9999      9999.0  0.693147\n",
       "10000    10000.0  0.693147\n",
       "\n",
       "[10001 rows x 2 columns]"
      ]
     },
     "execution_count": 305,
     "metadata": {},
     "output_type": "execute_result"
    }
   ],
   "source": [
    "gd_iterations_df"
   ]
  },
  {
   "cell_type": "code",
   "execution_count": 306,
   "metadata": {},
   "outputs": [
    {
     "data": {
      "text/plain": [
       "Text(0, 0.5, 'Cross Entropy')"
      ]
     },
     "execution_count": 306,
     "metadata": {},
     "output_type": "execute_result"
    },
    {
     "data": {
      "image/png": "[encoded data removed]",
      "text/plain": [
       "<Figure size 842.4x595.44 with 1 Axes>"
      ]
     },
     "metadata": {},
     "output_type": "display_data"
    }
   ],
   "source": [
    "# Plot the J history\n",
    "plt.plot(J_history[0:len(J_history)], color='blue', linewidth=1)\n",
    "plt.xlabel(\"Iterations\")\n",
    "plt.ylabel(\"Cross Entropy\")"
   ]
  },
  {
   "cell_type": "markdown",
   "metadata": {},
   "source": [
    "#  ✂ Drawing the Decision Boundary\n"
   ]
  },
  {
   "cell_type": "code",
   "execution_count": null,
   "metadata": {},
   "outputs": [],
   "source": [
    "def drawCircle():\n",
    "    pass"
   ]
  },
  {
   "cell_type": "markdown",
   "metadata": {},
   "source": [
    "# Classification "
   ]
  },
  {
   "cell_type": "code",
   "execution_count": null,
   "metadata": {},
   "outputs": [],
   "source": [
    "def decision_boundary(prob):\n",
    "  return 1 if prob >= .5 else 0"
   ]
  },
  {
   "cell_type": "code",
   "execution_count": null,
   "metadata": {},
   "outputs": [],
   "source": [
    "def predict_proba(X,theta):\n",
    "  if X.shape[0] != theta.shape[0]:\n",
    "    X = mapFeature(X)\n",
    "  return sigmoid(X.dot(theta))"
   ]
  },
  {
   "cell_type": "code",
   "execution_count": null,
   "metadata": {},
   "outputs": [],
   "source": [
    "def classify(predictions):\n",
    "  '''\n",
    "  input  - N element array of predictions between 0 and 1\n",
    "  output - N element array of 0s (False) and 1s (True)\n",
    "  '''\n",
    "  db = np.vectorize(decision_boundary)\n",
    "  return db(predictions).flatten()"
   ]
  },
  {
   "cell_type": "markdown",
   "metadata": {},
   "source": [
    "# Affichage \n",
    "Graphe representant les acceptations selon les caracteristiques"
   ]
  },
  {
   "cell_type": "code",
   "execution_count": 12,
   "metadata": {},
   "outputs": [
    {
     "data": {
      "text/plain": [
       "Text(0, 0.5, 'x 2')"
      ]
     },
     "execution_count": 12,
     "metadata": {},
     "output_type": "execute_result"
    },
    {
     "data": {
      "image/png": "[encoded data removed]",
      "text/plain": [
       "<Figure size 432x288 with 1 Axes>"
      ]
     },
     "metadata": {
      "needs_background": "light"
     },
     "output_type": "display_data"
    }
   ],
   "source": [
    "plt.scatter(X[np.where(y==1),1],X[np.where(y==1),2], label=\"y=1\",marker ='o')\n",
    "plt.scatter(X[np.where(y==0),1],X[np.where(y==0),2], label=\"y=0\",marker ='x')\n",
    "\n",
    "plt.xlabel('x 1')\n",
    "plt.ylabel('x 2')"
   ]
  },
  {
   "cell_type": "markdown",
   "metadata": {},
   "source": [
    "Traçage du coût en fonction de theta0 et theta1"
   ]
  },
  {
   "cell_type": "code",
   "execution_count": null,
   "metadata": {},
   "outputs": [],
   "source": []
  },
  {
   "cell_type": "markdown",
   "metadata": {},
   "source": [
    "# Qualité du classifieur\n",
    "\n",
    "Prédire des valeurs de y\n",
    "\n",
    "Ici il serait interessant de calculer la précision de notre classifieur\n",
    "\n",
    "Essayons de calculer ça avec \n",
    "\n",
    "moyenne(y==y-pred) * 100\n",
    "\n",
    "Ceci donnera un pourcentage de precision"
   ]
  },
  {
   "cell_type": "code",
   "execution_count": 78,
   "metadata": {},
   "outputs": [],
   "source": [
    "def accuracy(predicted_labels, actual_labels):\n",
    "  '''\n",
    "  Accuracy measures how correct our predictions were. \n",
    "  In this case we simply compare predicted labels to true labels and divide by the total.\n",
    "  '''\n",
    "  classifications = np.where(predicted_labels > 0.5, 1, 0)\n",
    "  return np.mean(classifications==actual_labels)*100 "
   ]
  },
  {
   "cell_type": "markdown",
   "metadata": {},
   "source": [
    "# 🔬 Comparison with scikit-learn\n",
    "Let's compare our implementation with the sklearn library."
   ]
  },
  {
   "cell_type": "code",
   "execution_count": null,
   "metadata": {},
   "outputs": [],
   "source": []
  },
  {
   "cell_type": "markdown",
   "metadata": {},
   "source": [
    "# Sheets"
   ]
  },
  {
   "cell_type": "code",
   "execution_count": null,
   "metadata": {},
   "outputs": [
    {
     "data": {
      "text/plain": [
       "array([[0.5],\n",
       "       [0.5],\n",
       "       [0.5],\n",
       "       [0.5],\n",
       "       [0.5]])"
      ]
     },
     "metadata": {},
     "output_type": "display_data"
    }
   ],
   "source": [
    "# Step 1 : Calculate h = sigmoid(X * theta)\n",
    "h = h_theta(X,initial_theta)\n",
    "h[:5]"
   ]
  },
  {
   "cell_type": "code",
   "execution_count": null,
   "metadata": {},
   "outputs": [
    {
     "data": {
      "text/plain": [
       "array([[-0.5],\n",
       "       [-0.5],\n",
       "       [-0.5],\n",
       "       [-0.5],\n",
       "       [-0.5]])"
      ]
     },
     "metadata": {},
     "output_type": "display_data"
    }
   ],
   "source": [
    "# Step 2 :Calculate the error = (h - y) \n",
    "error = np.subtract(h, y)\n",
    "error[:5]"
   ]
  },
  {
   "cell_type": "code",
   "execution_count": null,
   "metadata": {},
   "outputs": [
    {
     "data": {
      "text/plain": [
       "118"
      ]
     },
     "metadata": {},
     "output_type": "display_data"
    }
   ],
   "source": [
    "m = y.size\n",
    "m"
   ]
  },
  {
   "cell_type": "code",
   "execution_count": null,
   "metadata": {},
   "outputs": [
    {
     "data": {
      "text/plain": [
       "(28, 1)"
      ]
     },
     "metadata": {},
     "output_type": "display_data"
    }
   ],
   "source": [
    "# Step 3 : Calculate the new theta\n",
    "delta_grad = np.zeros(shape=(X.shape[1],1))\n",
    "delta_grad.shape"
   ]
  },
  {
   "cell_type": "code",
   "execution_count": null,
   "metadata": {},
   "outputs": [
    {
     "data": {
      "text/plain": [
       "1.0"
      ]
     },
     "metadata": {},
     "output_type": "display_data"
    }
   ],
   "source": [
    "np.dot(X[:,0].T, error[:,0])"
   ]
  },
  {
   "cell_type": "code",
   "execution_count": null,
   "metadata": {},
   "outputs": [
    {
     "data": {
      "text/plain": [
       "(28, 1)"
      ]
     },
     "metadata": {},
     "output_type": "display_data"
    }
   ],
   "source": [
    "delta_grad[0] = delta_grad[0] - alpha * 1/m * np.dot(X[:,0].T, error[:,0])\n",
    "delta_grad.shape"
   ]
  },
  {
   "cell_type": "code",
   "execution_count": null,
   "metadata": {},
   "outputs": [],
   "source": [
    "delta_grad[1:] - alpha * 1/m * np.sum(np.dot(X.T, error),axis=1).reshape(-1,1)"
   ]
  },
  {
   "cell_type": "code",
   "execution_count": null,
   "metadata": {},
   "outputs": [],
   "source": [
    "delta_grad[1:] = delta_grad[1:] - (alpha * 1/m * np.sum(np.dot(X[:,1:].T, error),axis=1).reshape(-1,1) - (my_lambda/m)*initial_theta[1:])"
   ]
  },
  {
   "cell_type": "code",
   "execution_count": null,
   "metadata": {},
   "outputs": [],
   "source": [
    "theta = np.subtract(initial_theta, delta_grad)\n",
    "theta"
   ]
  },
  {
   "cell_type": "code",
   "execution_count": null,
   "metadata": {},
   "outputs": [
    {
     "data": {
      "text/plain": [
       "0.6964245044653725"
      ]
     },
     "metadata": {},
     "output_type": "display_data"
    }
   ],
   "source": [
    "cost = get_cost(X,y,theta,my_lambda)\n",
    "cost"
   ]
  },
  {
   "cell_type": "markdown",
   "metadata": {},
   "source": [
    "# 📚 Ressources and References"
   ]
  },
  {
   "cell_type": "markdown",
   "metadata": {},
   "source": [
    "1. *Fighting Overfitting With L1 or L2*, https://neptune.ai/blog/fighting-overfitting-with-l1-or-l2-regularization\n",
    "2. *Implement Logistic Regression with L2 Regularization*, https://towardsdatascience.com/implement-logistic-regression-with-l2-regularization-from-scratch-in-python-20bd4ee88a59\n",
    "3. *Feature Selection and Dimensionality Reduction*, https://towardsdatascience.com/feature-selection-and-dimensionality-reduction-f488d1a035de\n",
    "4. *Regularization in Python*, https://harish-reddy.medium.com/regularization-in-python-699cfbad8622"
   ]
  }
 ],
 "metadata": {
  "kernelspec": {
   "display_name": "Python 3",
   "language": "python",
   "name": "python3"
  },
  "language_info": {
   "codemirror_mode": {
    "name": "ipython",
    "version": 3
   },
   "file_extension": ".py",
   "mimetype": "text/x-python",
   "name": "python",
   "nbconvert_exporter": "python",
   "pygments_lexer": "ipython3",
   "version": "3.8.8"
  }
 },
 "nbformat": 4,
 "nbformat_minor": 2
}
